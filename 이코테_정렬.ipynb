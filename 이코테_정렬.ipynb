{
 "cells": [
  {
   "cell_type": "markdown",
   "metadata": {},
   "source": []
  },
  {
   "cell_type": "markdown",
   "metadata": {},
   "source": [
    "# Ch06 정렬\n",
    "## 위에서 아래로"
   ]
  },
  {
   "cell_type": "code",
   "execution_count": 2,
   "metadata": {},
   "outputs": [
    {
     "name": "stdout",
     "output_type": "stream",
     "text": [
      "27 15 12 "
     ]
    }
   ],
   "source": [
    "n = int(input())\n",
    "numbers = []\n",
    "for _ in range(n):\n",
    "    numbers.append(int(input()))\n",
    "numbers.sort()\n",
    "numbers = numbers[::-1]\n",
    "for i in numbers:\n",
    "    print(i,end=' ')"
   ]
  },
  {
   "cell_type": "code",
   "execution_count": 4,
   "metadata": {},
   "outputs": [
    {
     "name": "stdout",
     "output_type": "stream",
     "text": [
      "27 15 12 "
     ]
    }
   ],
   "source": [
    "# 문제 솔루션 \n",
    "n = int(input())\n",
    "\n",
    "array = []\n",
    "for i in range(n):\n",
    "    array.append(int(input()))\n",
    "\n",
    "# sorted 라이브러리와 reverse 옵션\n",
    "array = sorted(array, reverse = True)\n",
    "\n",
    "for i in array:\n",
    "    print(i, end=' ')"
   ]
  },
  {
   "cell_type": "markdown",
   "metadata": {},
   "source": [
    "## 성적이 낮은 순서로 학생 출력하기 "
   ]
  },
  {
   "cell_type": "code",
   "execution_count": 15,
   "metadata": {},
   "outputs": [
    {
     "name": "stdout",
     "output_type": "stream",
     "text": [
      "이순신 홍길동 "
     ]
    }
   ],
   "source": [
    "n = int(input())\n",
    "students = []\n",
    "for _ in range(n):\n",
    "    name, score = input().split()\n",
    "    score = int(score)\n",
    "    students.append((name,score))\n",
    "\n",
    "students = sorted(students, key = lambda students: students[1])\n",
    "\n",
    "for i in students:\n",
    "    print(i[0], end=' ')"
   ]
  },
  {
   "cell_type": "code",
   "execution_count": 14,
   "metadata": {},
   "outputs": [
    {
     "name": "stdout",
     "output_type": "stream",
     "text": [
      "['2', 't', '9']\n",
      "<class 'list'>\n"
     ]
    }
   ],
   "source": [
    "# input().split()의 결과는 문자열을 원소로 하는 1차원 리스트 \n",
    "a = input().split()\n",
    "print(a)\n",
    "print(type(a))"
   ]
  },
  {
   "cell_type": "markdown",
   "metadata": {},
   "source": [
    "## 두 배열의 원소 교체 "
   ]
  },
  {
   "cell_type": "code",
   "execution_count": 16,
   "metadata": {},
   "outputs": [],
   "source": [
    "n, k = map(int, input().split())\n",
    "array_a = [i for i in input().split()]\n",
    "array_b = [i for i in input().split()]\n",
    "cnt = 0 \n",
    "while cnt <= k:\n",
    "    array_a = sorted(array_a)\n",
    "    array_b = sorted(array_b, reverse = True)\n",
    "    array_a[0], array_b[0] = array_a[0], array_b[0]\n",
    "    cnt += 1"
   ]
  },
  {
   "cell_type": "code",
   "execution_count": 17,
   "metadata": {},
   "outputs": [
    {
     "ename": "TypeError",
     "evalue": "unsupported operand type(s) for +: 'int' and 'str'",
     "output_type": "error",
     "traceback": [
      "\u001b[0;31m---------------------------------------------------------------------------\u001b[0m",
      "\u001b[0;31mTypeError\u001b[0m                                 Traceback (most recent call last)",
      "Cell \u001b[0;32mIn[17], line 1\u001b[0m\n\u001b[0;32m----> 1\u001b[0m \u001b[39mprint\u001b[39m(\u001b[39msum\u001b[39;49m(array_a))\n",
      "\u001b[0;31mTypeError\u001b[0m: unsupported operand type(s) for +: 'int' and 'str'"
     ]
    }
   ],
   "source": [
    "print(sum(array_a))"
   ]
  },
  {
   "cell_type": "code",
   "execution_count": null,
   "metadata": {},
   "outputs": [],
   "source": [
    "# ['1', '2', '3', ..]이 아닌 [1, 2, 3, ..]을 인풋으로 받으려면?\n",
    "\n",
    "#  ['1', '2', '3', ..]\n",
    "array_a = [i for i in input().split()]\n",
    "array_a = input().split()\n",
    "\n",
    "# [1, 2, 3, ..]\n",
    "array_a = list(map(int,input().split()))"
   ]
  },
  {
   "cell_type": "code",
   "execution_count": 18,
   "metadata": {},
   "outputs": [
    {
     "name": "stdout",
     "output_type": "stream",
     "text": [
      "26\n"
     ]
    }
   ],
   "source": [
    "n, k = map(int, input().split())\n",
    "array_a = list(map(int,input().split()))\n",
    "array_b = list(map(int,input().split()))\n",
    "\n",
    "for _ in range(k):\n",
    "    array_a = sorted(array_a)\n",
    "    array_b = sorted(array_b, reverse = True)\n",
    "    if array_a[0] < array_b[0]:\n",
    "        array_a[0], array_b[0] = array_b[0], array_a[0]\n",
    "    else:\n",
    "        break\n",
    "\n",
    "print(sum(array_a))"
   ]
  },
  {
   "cell_type": "code",
   "execution_count": null,
   "metadata": {},
   "outputs": [],
   "source": [
    "# for문 밖으로 뺄 수 있는 건 최대한 빼자 \n",
    "n, k = map(int, input().split())\n",
    "array_a = list(map(int,input().split()))\n",
    "array_b = list(map(int,input().split()))\n",
    "\n",
    "# sort함수에도 reverse 옵션이 있다 \n",
    "array_a = sorted(array_a)\n",
    "array_b = sorted(array_b, reverse = True)\n",
    "\n",
    "for _ in range(k):\n",
    "    array_a = sorted(array_a)\n",
    "    array_b = sorted(array_b, reverse = True)\n",
    "    if array_a[0] < array_b[0]:\n",
    "        array_a[0], array_b[0] = array_b[0], array_a[0]\n",
    "    else:\n",
    "        break\n",
    "\n",
    "print(sum(array_a))"
   ]
  }
 ],
 "metadata": {
  "kernelspec": {
   "display_name": "Python 3.8.16 ('datawrg')",
   "language": "python",
   "name": "python3"
  },
  "language_info": {
   "codemirror_mode": {
    "name": "ipython",
    "version": 3
   },
   "file_extension": ".py",
   "mimetype": "text/x-python",
   "name": "python",
   "nbconvert_exporter": "python",
   "pygments_lexer": "ipython3",
   "version": "3.8.16"
  },
  "orig_nbformat": 4,
  "vscode": {
   "interpreter": {
    "hash": "ab2bf47c83e23e79da7154310486cd6f2111092cec5daef28d72dd2b3b6f44d2"
   }
  }
 },
 "nbformat": 4,
 "nbformat_minor": 2
}
