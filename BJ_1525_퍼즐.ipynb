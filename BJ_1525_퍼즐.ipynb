{
 "cells": [
  {
   "cell_type": "code",
   "execution_count": 16,
   "metadata": {},
   "outputs": [],
   "source": [
    "from collections import deque\n",
    "\n",
    "start = ''\n",
    "for _ in range(3):\n",
    "    start_n = ''.join(input().split())\n",
    "    start = start + start_n\n",
    "\n",
    "    \n",
    "dx = [-1, 1, 0, 0]\n",
    "dy = [0, 0, -1, 1]\n",
    "board_size = 3 \n",
    "board = {}\n",
    "def bfs(start):\n",
    "    q = deque()\n",
    "    q.append(start)\n",
    "    board[start] = 0\n",
    "\n",
    "    while q:\n",
    "        now_status = q.popleft()\n",
    "        if now_status == '123456780':\n",
    "            return(board[now_status])\n",
    "        \n",
    "        current_1d_location = now_status.find('0')\n",
    "        x, y = current_1d_location % board_size, current_1d_location // board_size\n",
    "\n",
    "        for i in range(4):\n",
    "            nx = x + dx[i]\n",
    "            ny = y + dy[i]\n",
    "            new_1d_location = ny * board_size + nx\n",
    "\n",
    "            # switch \n",
    "            if nx < 0 or nx >= board_size or ny < 0 or ny >= board_size:\n",
    "                continue \n",
    "            else: \n",
    "                now_status_list = list(now_status)\n",
    "                now_status_list[new_1d_location], now_status_list[current_1d_location] = now_status_list[current_1d_location], now_status_list[new_1d_location]\n",
    "                nxt = ''.join(now_status_list)\n",
    "                if not board.get(nxt):\n",
    "                    board[nxt] = board[now_status] + 1 \n",
    "                    q.append(nxt)\n",
    "    return -1\n",
    "\n",
    "print(bfs(start))"
   ]
  }
 ],
 "metadata": {
  "kernelspec": {
   "display_name": "Python 3.8.16 ('datawrg')",
   "language": "python",
   "name": "python3"
  },
  "language_info": {
   "codemirror_mode": {
    "name": "ipython",
    "version": 3
   },
   "file_extension": ".py",
   "mimetype": "text/x-python",
   "name": "python",
   "nbconvert_exporter": "python",
   "pygments_lexer": "ipython3",
   "version": "3.8.16"
  },
  "orig_nbformat": 4,
  "vscode": {
   "interpreter": {
    "hash": "ab2bf47c83e23e79da7154310486cd6f2111092cec5daef28d72dd2b3b6f44d2"
   }
  }
 },
 "nbformat": 4,
 "nbformat_minor": 2
}
