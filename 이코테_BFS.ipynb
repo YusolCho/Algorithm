{
 "cells": [
  {
   "cell_type": "markdown",
   "metadata": {},
   "source": [
    "# BFS"
   ]
  },
  {
   "cell_type": "code",
   "execution_count": null,
   "metadata": {},
   "outputs": [],
   "source": [
    "def bfs_stack(adjacent_graph, start_node):\n",
    "    queue = [start_node]\n",
    "    visited = []\n",
    "\n",
    "    while queue:\n",
    "        current_node = queue.pop()\n",
    "        visited.append(current_node)\n",
    "        for adjacent_node in adjacent_graph[current_node]:\n",
    "            if adjacent_node not in visited and :\n",
    "                queue.append(adjacent_node)        \n",
    "    return visited"
   ]
  },
  {
   "cell_type": "markdown",
   "metadata": {},
   "source": [
    "# 미로 탈출"
   ]
  },
  {
   "cell_type": "markdown",
   "metadata": {},
   "source": [
    "## 1st Trial "
   ]
  },
  {
   "cell_type": "code",
   "execution_count": 1,
   "metadata": {},
   "outputs": [
    {
     "data": {
      "text/plain": [
       "10"
      ]
     },
     "execution_count": 1,
     "metadata": {},
     "output_type": "execute_result"
    }
   ],
   "source": [
    "n,m  = map(int, input().split())\n",
    "graph = []\n",
    "for _ in range(n):\n",
    "    graph.append(list(map(int,input())))\n",
    "\n",
    "def bfs(graph, start_x,start_y):\n",
    "    visited = []\n",
    "    queue_x = [start_x]\n",
    "    queue_y = [start_y]\n",
    "    \n",
    "    while queue_x:\n",
    "        current_x = queue_x.pop()\n",
    "        current_y = queue_y.pop()\n",
    "        visited.append((current_x, current_y))\n",
    "        for node in [(current_x+1, current_y),(current_x, current_y+1)]:\n",
    "            if (node[0] <= n) and (node[1] <= m):\n",
    "                if (node not in visited) and (graph[node[0]-1][node[1]-1] != 0):\n",
    "                    queue_x.append(node[0])\n",
    "                    queue_y.append(node[1])\n",
    "            \n",
    "\n",
    "    return visited\n",
    "\n",
    "len(bfs(graph,1,1))"
   ]
  },
  {
   "cell_type": "markdown",
   "metadata": {},
   "source": [
    "## 교재 솔루션 스스로 써보기  "
   ]
  },
  {
   "cell_type": "code",
   "execution_count": 3,
   "metadata": {},
   "outputs": [
    {
     "ename": "IndexError",
     "evalue": "pop from an empty deque",
     "output_type": "error",
     "traceback": [
      "\u001b[0;31m---------------------------------------------------------------------------\u001b[0m",
      "\u001b[0;31mIndexError\u001b[0m                                Traceback (most recent call last)",
      "Cell \u001b[0;32mIn[3], line 32\u001b[0m\n\u001b[1;32m     28\u001b[0m             graph[nx][ny] \u001b[39m+\u001b[39m\u001b[39m=\u001b[39m \u001b[39m1\u001b[39m\n\u001b[1;32m     30\u001b[0m     \u001b[39mreturn\u001b[39;00m graph[n\u001b[39m-\u001b[39m\u001b[39m1\u001b[39m][m\u001b[39m-\u001b[39m\u001b[39m1\u001b[39m]\n\u001b[0;32m---> 32\u001b[0m bfs(\u001b[39m0\u001b[39;49m,\u001b[39m0\u001b[39;49m)\n",
      "Cell \u001b[0;32mIn[3], line 19\u001b[0m, in \u001b[0;36mbfs\u001b[0;34m(x, y)\u001b[0m\n\u001b[1;32m     17\u001b[0m \u001b[39mfor\u001b[39;00m i \u001b[39min\u001b[39;00m \u001b[39mrange\u001b[39m(\u001b[39m4\u001b[39m):\n\u001b[1;32m     18\u001b[0m     x \u001b[39m=\u001b[39m queue\u001b[39m.\u001b[39mpopleft()[\u001b[39m0\u001b[39m] \u001b[39m# [0]이거 맞아?\u001b[39;00m\n\u001b[0;32m---> 19\u001b[0m     y \u001b[39m=\u001b[39m queue\u001b[39m.\u001b[39;49mpopleft()[\u001b[39m1\u001b[39m] \u001b[39m# [1]이거 맞아?        \u001b[39;00m\n\u001b[1;32m     20\u001b[0m     nx \u001b[39m=\u001b[39m x \u001b[39m+\u001b[39m dx[i]\u001b[39m# 어디에다가 dx[i]를 더해야하지? \u001b[39;00m\n\u001b[1;32m     21\u001b[0m     ny \u001b[39m=\u001b[39m y \u001b[39m+\u001b[39m dy[i]\n",
      "\u001b[0;31mIndexError\u001b[0m: pop from an empty deque"
     ]
    }
   ],
   "source": [
    "from collections import deque \n",
    "\n",
    "n, m=map(int,input().split())\n",
    "graph = [] \n",
    "for _ in range(n):\n",
    "    graph.append(list(map(int,input())))\n",
    "\n",
    "dx = [-1, 1, 0, 0]\n",
    "dy = [0, 0, -1, 1]\n",
    "\n",
    "def bfs(x,y):\n",
    "    queue = deque()\n",
    "    queue.append((x,y)) # 튜플 형태로 저장해야되는건가? \n",
    "\n",
    "    while queue:    # 빼먹을 뻔..\n",
    "\n",
    "        for i in range(4):\n",
    "            x = queue.popleft()[0] # [0]이거 맞아?\n",
    "            y = queue.popleft()[1] # [1]이거 맞아?        \n",
    "            nx = x + dx[i]# 어디에다가 dx[i]를 더해야하지? \n",
    "            ny = y + dy[i]\n",
    "\n",
    "            if nx<0 or ny<0 or nx>= n or ny>=m:\n",
    "                continue\n",
    "            if graph[nx][ny] == 0:\n",
    "                continue\n",
    "\n",
    "            graph[nx][ny] += 1\n",
    "\n",
    "    return graph[n-1][m-1]\n",
    "\n",
    "bfs(0,0)\n",
    "\n",
    "        \n"
   ]
  },
  {
   "cell_type": "code",
   "execution_count": 4,
   "metadata": {},
   "outputs": [
    {
     "ename": "TypeError",
     "evalue": "cannot unpack non-iterable int object",
     "output_type": "error",
     "traceback": [
      "\u001b[0;31m---------------------------------------------------------------------------\u001b[0m",
      "\u001b[0;31mTypeError\u001b[0m                                 Traceback (most recent call last)",
      "Cell \u001b[0;32mIn[4], line 31\u001b[0m\n\u001b[1;32m     27\u001b[0m             graph[nx][ny] \u001b[39m+\u001b[39m\u001b[39m=\u001b[39m \u001b[39m1\u001b[39m\n\u001b[1;32m     29\u001b[0m     \u001b[39mreturn\u001b[39;00m graph[n\u001b[39m-\u001b[39m\u001b[39m1\u001b[39m][m\u001b[39m-\u001b[39m\u001b[39m1\u001b[39m]\n\u001b[0;32m---> 31\u001b[0m bfs(\u001b[39m0\u001b[39;49m,\u001b[39m0\u001b[39;49m)\n",
      "Cell \u001b[0;32mIn[4], line 18\u001b[0m, in \u001b[0;36mbfs\u001b[0;34m(x, y)\u001b[0m\n\u001b[1;32m     15\u001b[0m \u001b[39mwhile\u001b[39;00m queue:    \u001b[39m# 빼먹을 뻔..\u001b[39;00m\n\u001b[1;32m     17\u001b[0m     \u001b[39mfor\u001b[39;00m i \u001b[39min\u001b[39;00m \u001b[39mrange\u001b[39m(\u001b[39m4\u001b[39m):\n\u001b[0;32m---> 18\u001b[0m         x,y \u001b[39m=\u001b[39m queue\u001b[39m.\u001b[39mpopleft()[\u001b[39m0\u001b[39m] \u001b[39m# [0]이거 맞아?\u001b[39;00m\n\u001b[1;32m     19\u001b[0m         nx \u001b[39m=\u001b[39m x \u001b[39m+\u001b[39m dx[i]\u001b[39m# 어디에다가 dx[i]를 더해야하지? \u001b[39;00m\n\u001b[1;32m     20\u001b[0m         ny \u001b[39m=\u001b[39m y \u001b[39m+\u001b[39m dy[i]\n",
      "\u001b[0;31mTypeError\u001b[0m: cannot unpack non-iterable int object"
     ]
    }
   ],
   "source": [
    "from collections import deque \n",
    "\n",
    "n, m=map(int,input().split())\n",
    "graph = [] \n",
    "for _ in range(n):\n",
    "    graph.append(list(map(int,input())))\n",
    "\n",
    "dx = [-1, 1, 0, 0]\n",
    "dy = [0, 0, -1, 1]\n",
    "\n",
    "def bfs(x,y):\n",
    "    queue = deque()\n",
    "    queue.append((x,y)) # 튜플 형태로 저장해야되는건가? \n",
    "\n",
    "    while queue:    # 빼먹을 뻔..\n",
    "\n",
    "        for i in range(4):\n",
    "            x,y = queue.popleft()[0] # [0]이거 맞아?\n",
    "            nx = x + dx[i]# 어디에다가 dx[i]를 더해야하지? \n",
    "            ny = y + dy[i]\n",
    "\n",
    "            if nx<0 or ny<0 or nx>= n or ny>=m:\n",
    "                continue\n",
    "            if graph[nx][ny] == 0:\n",
    "                continue\n",
    "\n",
    "            graph[nx][ny] += 1\n",
    "\n",
    "    return graph[n-1][m-1]\n",
    "\n",
    "bfs(0,0)"
   ]
  },
  {
   "cell_type": "code",
   "execution_count": 7,
   "metadata": {},
   "outputs": [
    {
     "data": {
      "text/plain": [
       "10"
      ]
     },
     "execution_count": 7,
     "metadata": {},
     "output_type": "execute_result"
    }
   ],
   "source": [
    "from collections import deque \n",
    "\n",
    "n, m=map(int,input().split())\n",
    "graph = [] \n",
    "for _ in range(n):\n",
    "    graph.append(list(map(int,input())))\n",
    "\n",
    "dx = [-1, 1, 0, 0]\n",
    "dy = [0, 0, -1, 1]\n",
    "\n",
    "def bfs(x,y):\n",
    "    queue = deque()\n",
    "    queue.append((x,y)) # 튜플 형태로 저장해야되는건가? \n",
    "\n",
    "    while queue:    # 빼먹을 뻔..\n",
    "        x,y = queue.popleft() # 현재 위치 꺼내기. 튜플을 이용한 변수 할당에 익숙해지자 \n",
    "\n",
    "\n",
    "        for i in range(4):\n",
    "            nx = x + dx[i]\n",
    "            ny = y + dy[i]\n",
    "\n",
    "            if nx<0 or ny<0 or nx>= n or ny>=m:\n",
    "                continue\n",
    "            if graph[nx][ny] == 0:\n",
    "                continue\n",
    "\n",
    "            if graph[nx][ny] == 1: # continue 썼어도 조건문 달아주기 \n",
    "                graph[nx][ny] = graph[x][y] + 1\n",
    "                queue.append((nx,ny)) #### for문 마지막에 queue 대기열 업데이트 잊지 말기 \n",
    "\n",
    "    return graph[n-1][m-1]\n",
    "\n",
    "bfs(0,0)"
   ]
  },
  {
   "cell_type": "code",
   "execution_count": null,
   "metadata": {},
   "outputs": [],
   "source": []
  }
 ],
 "metadata": {
  "kernelspec": {
   "display_name": "Python 3.8.16 ('datawrg')",
   "language": "python",
   "name": "python3"
  },
  "language_info": {
   "codemirror_mode": {
    "name": "ipython",
    "version": 3
   },
   "file_extension": ".py",
   "mimetype": "text/x-python",
   "name": "python",
   "nbconvert_exporter": "python",
   "pygments_lexer": "ipython3",
   "version": "3.8.16"
  },
  "orig_nbformat": 4,
  "vscode": {
   "interpreter": {
    "hash": "ab2bf47c83e23e79da7154310486cd6f2111092cec5daef28d72dd2b3b6f44d2"
   }
  }
 },
 "nbformat": 4,
 "nbformat_minor": 2
}
