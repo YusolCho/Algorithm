{
 "cells": [
  {
   "cell_type": "markdown",
   "metadata": {},
   "source": [
    "## 문제\n",
    "<br>차세대 영농인 한나는 강원도 고랭지에서 유기농 배추를 재배하기로 하였다. <br>농약을 쓰지 않고 배추를 재배하려면 배추를 해충으로부터 보호하는 것이 중요하기 때문에, 한나는 해충 방지에 효과적인 배추흰지렁이를 구입하기로 결심한다. <br>이 지렁이는 배추근처에 서식하며 해충을 잡아 먹음으로써 배추를 보호한다. <br>특히, 어떤 배추에 배추흰지렁이가 한 마리라도 살고 있으면 이 지렁이는 인접한 다른 배추로 이동할 수 있어, 그 배추들 역시 해충으로부터 보호받을 수 있다. <br>한 배추의 상하좌우 네 방향에 다른 배추가 위치한 경우에 서로 인접해있는 것이다.\n",
    "\n",
    "<br>한나가 배추를 재배하는 땅은 고르지 못해서 배추를 군데군데 심어 놓았다. <br>배추들이 모여있는 곳에는 배추흰지렁이가 한 마리만 있으면 되므로 서로 인접해있는 배추들이 몇 군데에 퍼져있는지 조사하면 총 몇 마리의 지렁이가 필요한지 알 수 있다. <br>예를 들어 배추밭이 아래와 같이 구성되어 있으면 최소 5마리의 배추흰지렁이가 필요하다. <br>0은 배추가 심어져 있지 않은 땅이고, 1은 배추가 심어져 있는 땅을 나타낸다.\n"
   ]
  },
  {
   "cell_type": "markdown",
   "metadata": {},
   "source": [
    "* 요약 \n",
    "    * 배추흰지렁이가 사는 배추 + 상하좌우 배추가 보호받음\n",
    "    * 1: 배추 있음 \n",
    "    * 1덩어리에는 배추흰지렁이 1개 필요 \n",
    "\n",
    "* 결론 \n",
    "    * 그래프에서 1 덩어리가 몇개인지 찾기 -> DFS"
   ]
  },
  {
   "cell_type": "markdown",
   "metadata": {},
   "source": [
    "<br>1\t1\t0\t0\t0\t0\t0\t0\t0\t0\n",
    "<br>0\t1\t0\t0\t0\t0\t0\t0\t0\t0\n",
    "<br>0\t0\t0\t0\t1\t0\t0\t0\t0\t0\n",
    "<br>0\t0\t0\t0\t1\t0\t0\t0\t0\t0\n",
    "<br>0\t0\t1\t1\t0\t0\t0\t1\t1\t1\n",
    "<br>0\t0\t0\t0\t1\t0\t0\t1\t1\t1\n",
    "\n",
    "## 입력\n",
    "<br>입력의 첫 줄에는 테스트 케이스의 개수 T가 주어진다. <br>그 다음 줄부터 각각의 테스트 케이스에 대해 첫째 줄에는 배추를 심은 배추밭의 가로길이 M(1 ≤ M ≤ 50)과 세로길이 N(1 ≤ N ≤ 50), 그리고 배추가 심어져 있는 위치의 개수 K(1 ≤ K ≤ 2500)이 주어진다. <br>그 다음 K줄에는 배추의 위치 X(0 ≤ X ≤ M-1), Y(0 ≤ Y ≤ N-1)가 주어진다. <br>두 배추의 위치가 같은 경우는 없다.\n",
    "\n",
    "## 출력\n",
    "각 테스트 케이스에 대해 필요한 최소의 배추흰지렁이 마리 수를 출력한다.\n",
    "\n",
    "#### 예제 입력 1 \n",
    "<br>1\n",
    "<br>5 3 6\n",
    "<br>0 2\n",
    "<br>1 2\n",
    "<br>2 2\n",
    "<br>3 2\n",
    "<br>4 2\n",
    "<br>4 0\n",
    "<br>10 10 1\n",
    "<br>5 5\n",
    "#### 예제 출력 1 \n",
    "<br>5\n",
    "<br>1"
   ]
  },
  {
   "cell_type": "code",
   "execution_count": 90,
   "metadata": {},
   "outputs": [
    {
     "name": "stdout",
     "output_type": "stream",
     "text": [
      "2\n"
     ]
    }
   ],
   "source": [
    "import sys \n",
    "sys.setrecursionlimit(10000) \n",
    "\n",
    "t = int(input()) # 테스트 케이스  \n",
    "for _ in range(t):\n",
    "    m, n, k = map(int,input().split())\n",
    "    graph = [[0]*n for _ in range(m)]\n",
    "    for _ in range(k):\n",
    "        i, j = map(int, input().split())\n",
    "        graph[i][j] = 1\n",
    "    \n",
    "    cnt=0  \n",
    "\n",
    "    dx = (-1, 1, 0, 0)\n",
    "    dy = (0, 0, -1, 1)\n",
    "\n",
    "# 방문한 경우: -1 (안가)\n",
    "# 방문 안한 경우: 1또는 0\n",
    "    # 배추있어: 1 (가)\n",
    "    # 배추없어: 0 (안가)\n",
    "\n",
    "    def dfs(x, y): \n",
    "        global cnt\n",
    "        graph[x][y] = -1 # 방문 처리 \n",
    "\n",
    "        for i in range(4):\n",
    "            nx = x + dx[i]\n",
    "            ny = y + dy[i]\n",
    "            if (0 <= nx <=m-1) and (0 <= ny <= n-1):\n",
    "                if graph[nx][ny] == 1:\n",
    "                    graph[nx][ny] = -1 # 방문처리 \n",
    "                    dfs(nx, ny) \n",
    "                \n",
    "\n",
    "\n",
    "    for i in range(m): # 5(0-4)\n",
    "        for j in range(n): # 3(0-2)\n",
    "            if graph[i][j] > 0:\n",
    "                dfs(i,j) \n",
    "                cnt += 1 \n",
    "\n",
    "    print(cnt)"
   ]
  },
  {
   "cell_type": "code",
   "execution_count": null,
   "metadata": {},
   "outputs": [],
   "source": []
  }
 ],
 "metadata": {
  "kernelspec": {
   "display_name": "Python 3.9.12 ('base')",
   "language": "python",
   "name": "python3"
  },
  "language_info": {
   "codemirror_mode": {
    "name": "ipython",
    "version": 3
   },
   "file_extension": ".py",
   "mimetype": "text/x-python",
   "name": "python",
   "nbconvert_exporter": "python",
   "pygments_lexer": "ipython3",
   "version": "3.9.12"
  },
  "orig_nbformat": 4,
  "vscode": {
   "interpreter": {
    "hash": "212cd9441ec9898fe11d1452af9cd2addff0416c6bf3ef465483bc3a88e4d851"
   }
  }
 },
 "nbformat": 4,
 "nbformat_minor": 2
}
