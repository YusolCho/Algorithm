{
 "cells": [
  {
   "cell_type": "markdown",
   "metadata": {},
   "source": [
    "# 문제\n",
    "지민이는 파티에 가서 이야기 하는 것을 좋아한다. <br>파티에 갈 때마다, 지민이는 지민이가 가장 좋아하는 이야기를 한다. <br>지민이는 그 이야기를 말할 때, 있는 그대로 진실로 말하거나 엄청나게 과장해서 말한다. <br>당연히 과장해서 이야기하는 것이 훨씬 더 재미있기 때문에, 되도록이면 과장해서 이야기하려고 한다. <br>하지만, 지민이는 거짓말쟁이로 알려지기는 싫어한다. 문제는 몇몇 사람들은 그 이야기의 진실을 안다는 것이다. <br>따라서 이런 사람들이 파티에 왔을 때는, 지민이는 진실을 이야기할 수 밖에 없다. <br>당연히, 어떤 사람이 어떤 파티에서는 진실을 듣고, 또다른 파티에서는 과장된 이야기를 들었을 때도 지민이는 거짓말쟁이로 알려지게 된다. <br>지민이는 이런 일을 모두 피해야 한다.\n",
    "<br>\n",
    "사람의 수 N이 주어진다. <br>그리고 그 이야기의 진실을 아는 사람이 주어진다. <br>그리고 각 파티에 오는 사람들의 번호가 주어진다. <br>지민이는 모든 파티에 참가해야 한다. <br>이때, 지민이가 거짓말쟁이로 알려지지 않으면서, 과장된 이야기를 할 수 있는 파티 개수의 최댓값을 구하는 프로그램을 작성하시오."
   ]
  },
  {
   "cell_type": "markdown",
   "metadata": {},
   "source": [
    "* **<font color='mediumpurple'>요약</font>**\n",
    "1. 진실/과장(default)\n",
    "2. 진실의 말해야 하는 경우\n",
    "    * 이전 파티에서 진실을 들은 사람이 파티에 왔을 때 \n",
    "    * 이후 파티에서 진실을 들을 사람이 파티에 왔을 때 "
   ]
  },
  {
   "cell_type": "markdown",
   "metadata": {},
   "source": [
    "# 입력\n",
    "첫째 줄에 사람의 수 N과 파티의 수 M이 주어진다.<br>\n",
    "\n",
    "둘째 줄에는 이야기의 진실을 아는 사람의 수와 번호가 주어진다. <br>진실을 아는 사람의 수가 먼저 주어지고 그 개수만큼 사람들의 번호가 주어진다. <br>사람들의 번호는 1부터 N까지의 수로 주어진다.<br>\n",
    "\n",
    "셋째 줄부터 M개의 줄에는 각 파티마다 오는 사람의 수와 번호가 같은 방식으로 주어진다.\n",
    "\n",
    "N, M은 50 이하의 자연수이고, 진실을 아는 사람의 수는 0 이상 50 이하의 정수, 각 파티마다 오는 사람의 수는 1 이상 50 이하의 정수이다.\n",
    "\n",
    "# 출력\n",
    "첫째 줄에 문제의 정답을 출력한다."
   ]
  },
  {
   "cell_type": "markdown",
   "metadata": {},
   "source": [
    "# 1. input 코드 작성"
   ]
  },
  {
   "cell_type": "code",
   "execution_count": 45,
   "metadata": {},
   "outputs": [],
   "source": [
    "num_people, num_party = map(int, input().split()) # num_people: 사람의 수(int) # num_party: 파티의 수(int)\n",
    "tmp = list(map(int, input().split()))\n",
    "num_truth_knowers = tmp[0] # num_truth_knowers: 진실을 아는 사람의 수(int)\n",
    "if len(tmp) != 1:\n",
    "    truth_knowers = tmp[1:] # truth_knowers: 진실을 아는 사람들(List[int])\n",
    "\n",
    "print('num_people: ', num_people)\n",
    "print('num_party: ', num_party)\n",
    "print('num_truth_knowers: ', num_truth_knowers)\n",
    "print('truth_knowers: ', truth_knowers)\n",
    "\n",
    "who_comes = [[] for _ in range(num_party+1)]\n",
    "for i in range(1,num_party+1):\n",
    "    who_comes[i].extend(map(int, input().split()))\n",
    "\n",
    "print('who_comes: ')\n",
    "print(who_comes)"
   ]
  },
  {
   "cell_type": "code",
   "execution_count": 46,
   "metadata": {},
   "outputs": [
    {
     "name": "stdout",
     "output_type": "stream",
     "text": [
      "num_people:  10\n",
      "num_party:  9\n",
      "num_truth_knowers:  4\n",
      "truth_knowers:  [1, 2, 3, 4]\n"
     ]
    }
   ],
   "source": [
    "print('num_people: ', num_people)\n",
    "print('num_party: ', num_party)\n",
    "print('num_truth_knowers: ', num_truth_knowers)\n",
    "print('truth_knowers: ', truth_knowers)"
   ]
  },
  {
   "cell_type": "code",
   "execution_count": 49,
   "metadata": {},
   "outputs": [],
   "source": [
    "who_comes = [[] for _ in range(num_party+1)]\n",
    "for i in range(1,num_party+1):\n",
    "    who_comes[i].extend(map(int, input().split()))"
   ]
  },
  {
   "cell_type": "code",
   "execution_count": 50,
   "metadata": {},
   "outputs": [
    {
     "name": "stdout",
     "output_type": "stream",
     "text": [
      "who_comes: \n",
      "[[], [2, 1, 5], [2, 2, 6], [1, 7], [1, 8], [2, 7, 8], [1, 9], [1, 10], [2, 3, 10], [1, 4]]\n"
     ]
    }
   ],
   "source": [
    "print('who_comes: ')\n",
    "print(who_comes)"
   ]
  },
  {
   "cell_type": "markdown",
   "metadata": {},
   "source": [
    "* <font color ='mediumpurple'>출력: 4</font>\n",
    "* 단순하게 생각하면 전체 파티에서\n",
    "    1. truth_knowers 중 한명이라도 존재하는 파티는 제거 = 1 / 2 / 3 / 4 있는 파티 제거 \n",
    "    2. truth_knowers 중 한명이라도 존재하는 파티 -> 에 함께 참석하는 사람들이 존재하는 파티 제거 = 1 / 2 / 3 / 4 가 있는 파티에 함께 참석하는 사람(예를 들면 1, 5의 5) 이 존재하는 다른 파티 (5, 7) 제거 \n",
    "    3. **헷갈리는 것** 그럼 이건 어떻게 해야되나? truth_knowers 중 한명이라도 존재하는 파티에 함께 참석하는 사람이 존재하는 파티에 참석하는 사람이 참석하는 사람 \n",
    "        * 쓰고보니 거지같네? 그니까 오리지날 truth_knowers가 1, 2, 3, 4라고 하자. \n",
    "        * 여기서 1, 5가 참석하는 파티가 있다면 5는 1차 감염자 따라서 1차 감염자가 존재하는 파티를 제거한다 (여기까지가 위의 2번)\n",
    "        * 그렇다면, 1차 감염자인 5가 참석하는, 5, 8, 9 파티가 있다면 여기서 8, 9 는 2차 감염자로 보고 제거해야하는가? 혹은 1차 감염자까지만 제거해야하나? \n",
    "* 1차 감염자까지만 제거하는 건 골5치고 너무 쉬울 것 같은데,, 일단 해보자 "
   ]
  },
  {
   "cell_type": "markdown",
   "metadata": {},
   "source": [
    "# 3. 제출본 - fail"
   ]
  },
  {
   "cell_type": "code",
   "execution_count": 15,
   "metadata": {},
   "outputs": [
    {
     "name": "stdout",
     "output_type": "stream",
     "text": [
      "o 5\n"
     ]
    }
   ],
   "source": [
    "def forward(who_comes, num_party, truth_knowers):\n",
    "    avoid_forward = []\n",
    "    for party in range(1, num_party+1): \n",
    "        for truth_knower in truth_knowers: \n",
    "            if truth_knower in who_comes[party][1:]:\n",
    "                truth_knowers.extend(set(who_comes[party][1:]) - set(truth_knowers))\n",
    "                avoid_forward.append(party)\n",
    "    \n",
    "    avoid_forward = list(set(avoid_forward))\n",
    "\n",
    "    return avoid_forward\n",
    "\n",
    "def backward(who_comes, num_party, truth_knowers):\n",
    "    avoid_backward = []\n",
    "    for party in range(1, num_party+1): \n",
    "        for truth_knower in truth_knowers: \n",
    "            if truth_knower in who_comes[party][1:]:\n",
    "                avoid_backward.append(party)\n",
    "\n",
    "    avoid_backward = list(set(avoid_backward))\n",
    "    return avoid_backward\n",
    "\n",
    "if (num_truth_knowers != 0):\n",
    "    avoid_forward = forward(who_comes, num_party, truth_knowers)\n",
    "    avoid_backward = backward(who_comes, num_party, truth_knowers)\n",
    "    avoid = list(set(avoid_forward + avoid_backward))\n",
    "    print(\"o\" , num_party-len(avoid))\n",
    "else: \n",
    "    print(\"x\" , num_party)"
   ]
  },
  {
   "cell_type": "markdown",
   "metadata": {},
   "source": [
    "# 4. 제출본 - success"
   ]
  },
  {
   "cell_type": "code",
   "execution_count": null,
   "metadata": {},
   "outputs": [],
   "source": [
    "num_people, num_party = map(int, input().split()) # num_people: 사람의 수(int) # num_party: 파티의 수(int)\n",
    "tmp = list(map(int, input().split()))\n",
    "num_truth_knowers = tmp[0] # num_truth_knowers: 진실을 아는 사람의 수(int)\n",
    "if len(tmp) != 1:\n",
    "    truth_knowers = tmp[1:] # truth_knowers: 진실을 아는 사람들(List[int])\n",
    "\n",
    "who_comes = [[] for _ in range(num_party+1)]\n",
    "for i in range(1,num_party+1):\n",
    "    who_comes[i].extend(map(int, input().split()))\n",
    "\n",
    "\n",
    "\n",
    "def forward(who_comes, num_party, truth_knowers):\n",
    "    avoid_forward = []\n",
    "    for _ in range(num_party): # 수정된 부분\n",
    "        for party in range(1, num_party+1): \n",
    "            for truth_knower in truth_knowers: \n",
    "                if truth_knower in who_comes[party][1:]:\n",
    "                    truth_knowers.extend(set(who_comes[party][1:]) - set(truth_knowers))\n",
    "                    avoid_forward.append(party)\n",
    "    \n",
    "    avoid_forward = list(set(avoid_forward))\n",
    "\n",
    "    return avoid_forward\n",
    "    \n",
    "\n",
    "def backward(who_comes, num_party, truth_knowers):\n",
    "    avoid_backward = []\n",
    "    for party in range(1, num_party+1): \n",
    "        for truth_knower in truth_knowers: \n",
    "            if truth_knower in who_comes[party][1:]:\n",
    "                avoid_backward.append(party)\n",
    "\n",
    "    avoid_backward = list(set(avoid_backward))\n",
    "    return avoid_backward\n",
    "\n",
    "if (num_truth_knowers != 0):\n",
    "    avoid_forward = forward(who_comes, num_party, truth_knowers)\n",
    "    avoid_backward = backward(who_comes, num_party, truth_knowers)\n",
    "    avoid = list(set(avoid_forward + avoid_backward))\n",
    "    print(num_party-len(avoid))\n",
    "else: \n",
    "    print(num_party)"
   ]
  },
  {
   "cell_type": "code",
   "execution_count": null,
   "metadata": {},
   "outputs": [],
   "source": [
    "1\n",
    "2\n",
    "3\n",
    "4\n",
    "5\n",
    "6\n",
    "7 4 6\n",
    "8 10 4 V\n",
    "9 1 10 V\n",
    "\n",
    "\n",
    "1 2 3 4"
   ]
  }
 ],
 "metadata": {
  "kernelspec": {
   "display_name": "Python 3.8.16 ('datawrg')",
   "language": "python",
   "name": "python3"
  },
  "language_info": {
   "codemirror_mode": {
    "name": "ipython",
    "version": 3
   },
   "file_extension": ".py",
   "mimetype": "text/x-python",
   "name": "python",
   "nbconvert_exporter": "python",
   "pygments_lexer": "ipython3",
   "version": "3.8.16"
  },
  "orig_nbformat": 4,
  "vscode": {
   "interpreter": {
    "hash": "ab2bf47c83e23e79da7154310486cd6f2111092cec5daef28d72dd2b3b6f44d2"
   }
  }
 },
 "nbformat": 4,
 "nbformat_minor": 2
}
