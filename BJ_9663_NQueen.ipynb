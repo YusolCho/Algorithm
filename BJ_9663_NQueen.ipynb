{
 "cells": [
  {
   "cell_type": "markdown",
   "metadata": {},
   "source": [
    "# 문제\n",
    "N-Queen 문제는 크기가 N × N인 체스판 위에 퀸 N개를 서로 공격할 수 없게 놓는 문제이다.<br>\n",
    "\n",
    "N이 주어졌을 때, 퀸을 놓는 방법의 수를 구하는 프로그램을 작성하시오.\n",
    "\n",
    "# 입력 \n",
    "첫째 줄에 N이 주어진다. (1 ≤ N < 15)\n",
    "\n",
    "### 출력\n",
    "첫째 줄에 퀸 N개를 서로 공격할 수 없게 놓는 경우의 수를 출력한다.\n",
    "\n",
    "### 예제 입력 1 \n",
    "8\n",
    "### 예제 출력 1 \n",
    "92"
   ]
  },
  {
   "cell_type": "code",
   "execution_count": null,
   "metadata": {},
   "outputs": [],
   "source": [
    "n = int(input())"
   ]
  },
  {
   "cell_type": "markdown",
   "metadata": {},
   "source": [
    "bfs인가? 일단 함수를 짜보자"
   ]
  },
  {
   "cell_type": "code",
   "execution_count": null,
   "metadata": {},
   "outputs": [],
   "source": [
    "from collections import deque \n",
    "dr = [1, -1, 0, 0]\n",
    "dc = [0, 0, 1, -1]\n",
    "\n",
    "def bfs(start_node):\n",
    "    q = deque()\n",
    "    q.append(start_node)\n",
    "    while q:\n",
    "        r, c = q.popleft()\n",
    "\n",
    "        for i in range(4):\n",
    "            nr, nc = r + dr[i], c + dc[i]\n",
    "\n",
    "            if (0 <= nr <= n) and (0 <= nc <= n) and (visited[nr][nc] == 0) : # 범위 체크해봐야 할 듯\n",
    "                q.append((nr, nc))\n",
    "                visited[nr][nc] = 1\n"
   ]
  },
  {
   "cell_type": "markdown",
   "metadata": {},
   "source": [
    "# 포기. BFS가 아닌 것 같다"
   ]
  },
  {
   "cell_type": "markdown",
   "metadata": {},
   "source": [
    "# 백트래킹(BackTracking)으로 다시 도전"
   ]
  },
  {
   "cell_type": "code",
   "execution_count": 6,
   "metadata": {},
   "outputs": [],
   "source": [
    "n = int(input())"
   ]
  },
  {
   "cell_type": "code",
   "execution_count": 3,
   "metadata": {},
   "outputs": [],
   "source": [
    "cnt = 0 "
   ]
  },
  {
   "cell_type": "markdown",
   "metadata": {},
   "source": [
    "풀이의 전제조건 <br>\n",
    "- 하나의 행에 하나의 퀸을 둔다 \n",
    "- 특정 행에서 어떤 열에 퀸을 둘지 탐색하는 건 (아마도) 0번째 열부터 순서대로"
   ]
  },
  {
   "cell_type": "code",
   "execution_count": 7,
   "metadata": {},
   "outputs": [],
   "source": [
    "n = int(input())\n",
    "cnt = 0 "
   ]
  },
  {
   "cell_type": "code",
   "execution_count": 8,
   "metadata": {},
   "outputs": [],
   "source": [
    "def available(candidate, current_col):\n",
    "    current_row = len(candidate)\n",
    "    for queen_row in range(current_row):\n",
    "        if candidate[queen_row] == current_col or abs(candidate[queen_row] - current_col) == abs(queen_row - current_row):\n",
    "            return False\n",
    "    return True"
   ]
  },
  {
   "cell_type": "code",
   "execution_count": 9,
   "metadata": {},
   "outputs": [],
   "source": [
    "def dfs(N, current_row, current_candidate):\n",
    "    global cnt \n",
    "\n",
    "    if current_row == N:\n",
    "        cnt += 1\n",
    "        return\n",
    "\n",
    "    for candidate_col in range(N):\n",
    "        if avaliable(current_candidate, current_col):\n",
    "            current_candidate.append(candidate_col)\n",
    "            dfs(N, current_row + 1, current_candidate)\n",
    "            current_candidate.pop()"
   ]
  },
  {
   "cell_type": "code",
   "execution_count": null,
   "metadata": {},
   "outputs": [],
   "source": [
    "def solution(n):\n",
    "    DFS(n, 0, [])\n",
    "    print(cnt)\n",
    "    return\n",
    " \n",
    "solution(n)\n"
   ]
  },
  {
   "cell_type": "markdown",
   "metadata": {},
   "source": [
    "# 제출용에 맞게 하나로 수정"
   ]
  },
  {
   "cell_type": "code",
   "execution_count": 11,
   "metadata": {},
   "outputs": [
    {
     "ename": "NameError",
     "evalue": "name 'is_avaliable' is not defined",
     "output_type": "error",
     "traceback": [
      "\u001b[0;31m---------------------------------------------------------------------------\u001b[0m",
      "\u001b[0;31mNameError\u001b[0m                                 Traceback (most recent call last)",
      "Cell \u001b[0;32mIn[11], line 28\u001b[0m\n\u001b[1;32m     25\u001b[0m     \u001b[39mprint\u001b[39m(count)\n\u001b[1;32m     26\u001b[0m     \u001b[39mreturn\u001b[39;00m\n\u001b[0;32m---> 28\u001b[0m solution(n)\n",
      "Cell \u001b[0;32mIn[11], line 24\u001b[0m, in \u001b[0;36msolution\u001b[0;34m(n)\u001b[0m\n\u001b[1;32m     23\u001b[0m \u001b[39mdef\u001b[39;00m \u001b[39msolution\u001b[39m(n):\n\u001b[0;32m---> 24\u001b[0m     DFS(n, \u001b[39m0\u001b[39;49m, [])\n\u001b[1;32m     25\u001b[0m     \u001b[39mprint\u001b[39m(count)\n\u001b[1;32m     26\u001b[0m     \u001b[39mreturn\u001b[39;00m\n",
      "Cell \u001b[0;32mIn[9], line 9\u001b[0m, in \u001b[0;36mDFS\u001b[0;34m(N, current_row, current_candidate)\u001b[0m\n\u001b[1;32m      6\u001b[0m     \u001b[39mreturn\u001b[39;00m\n\u001b[1;32m      8\u001b[0m \u001b[39mfor\u001b[39;00m candidate_col \u001b[39min\u001b[39;00m \u001b[39mrange\u001b[39m(N):\n\u001b[0;32m----> 9\u001b[0m     \u001b[39mif\u001b[39;00m is_avaliable(current_candidate, current_col):\n\u001b[1;32m     10\u001b[0m         current_candidate\u001b[39m.\u001b[39mappend(candidate_col)\n\u001b[1;32m     11\u001b[0m         DFS(N, current_row \u001b[39m+\u001b[39m \u001b[39m1\u001b[39m, current_candidate)\n",
      "\u001b[0;31mNameError\u001b[0m: name 'is_avaliable' is not defined"
     ]
    }
   ],
   "source": [
    "n = int(input())\n",
    "count = 0 \n",
    "\n",
    "\n",
    "def dfs(n, current_row, current_candidate):\n",
    "    global count \n",
    "    if current_row == n:\n",
    "        count += 1\n",
    "        return\n",
    "    for candidate_col in range(n):\n",
    "        if avaliable(current_candidate, current_col):\n",
    "            current_candidate.append(candidate_col)\n",
    "            dfs(n, current_row + 1, current_candidate)\n",
    "            current_candidate.pop()\n",
    "\n",
    "def available(candidate, current_col):\n",
    "    current_row = len(candidate)\n",
    "    for queen_row in range(current_row):\n",
    "        if candidate[queen_row] == current_col or abs(candidate[queen_row] - current_col) == abs(queen_row - current_row):\n",
    "            return False\n",
    "    return True\n",
    "\n",
    "def solution(n):\n",
    "    DFS(n, 0, [])\n",
    "    print(count)\n",
    "    return\n",
    " \n",
    "solution(n)"
   ]
  },
  {
   "cell_type": "code",
   "execution_count": null,
   "metadata": {},
   "outputs": [],
   "source": []
  }
 ],
 "metadata": {
  "kernelspec": {
   "display_name": "Python 3.8.16 ('datawrg')",
   "language": "python",
   "name": "python3"
  },
  "language_info": {
   "codemirror_mode": {
    "name": "ipython",
    "version": 3
   },
   "file_extension": ".py",
   "mimetype": "text/x-python",
   "name": "python",
   "nbconvert_exporter": "python",
   "pygments_lexer": "ipython3",
   "version": "3.8.16"
  },
  "orig_nbformat": 4,
  "vscode": {
   "interpreter": {
    "hash": "ab2bf47c83e23e79da7154310486cd6f2111092cec5daef28d72dd2b3b6f44d2"
   }
  }
 },
 "nbformat": 4,
 "nbformat_minor": 2
}
