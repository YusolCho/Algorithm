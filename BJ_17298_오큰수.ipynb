{
 "cells": [
  {
   "cell_type": "markdown",
   "metadata": {},
   "source": [
    "# 문제 <br>\n",
    "크기가 N인 수열 A = A1, A2, ..., AN이 있다. <br>\n",
    "수열의 각 원소 Ai에 대해서 오큰수 NGE(i)를 구하려고 한다. <br>\n",
    "Ai의 오큰수는 오른쪽에 있으면서 Ai보다 큰 수 중에서 가장 왼쪽에 있는 수를 의미한다. <br>\n",
    "그러한 수가 없는 경우에 오큰수는 -1이다. <br>\n",
    "\n",
    "예를 들어, A = [3, 5, 2, 7]인 경우 NGE(1) = 5, NGE(2) = 7, NGE(3) = 7, NGE(4) = -1이다. <br>\n",
    "A = [9, 5, 4, 8]인 경우에는 NGE(1) = -1, NGE(2) = 8, NGE(3) = 8, NGE(4) = -1이다. <br>\n",
    "\n",
    "# 입력 <br>\n",
    "첫째 줄에 수열 A의 크기 N (1 ≤ N ≤ 1,000,000)이 주어진다. <br>\n",
    "둘째 줄에 수열 A의 원소 A1, A2, ..., AN (1 ≤ Ai ≤ 1,000,000)이 주어진다. <br>\n",
    "\n",
    "# 출력 <br>\n",
    "총 N개의 수 NGE(1), NGE(2), ..., NGE(N)을 공백으로 구분해 출력한다. <br>\n"
   ]
  },
  {
   "cell_type": "markdown",
   "metadata": {},
   "source": [
    "## 예제 입력 1 <br>\n",
    "4 <br>\n",
    "3 5 2 7 <br>\n",
    "\n",
    "## 예제 출력 1 <br>\n",
    "5 7 7 -1 <br>\n",
    "\n",
    "## 예제 입력 2 <br>\n",
    "4 <br>\n",
    "9 5 4 8 <br>\n",
    "\n",
    "## 예제 출력 2 <br>\n",
    "-1 8 8 -1 <br>\n"
   ]
  },
  {
   "cell_type": "code",
   "execution_count": 33,
   "metadata": {},
   "outputs": [
    {
     "name": "stdout",
     "output_type": "stream",
     "text": [
      "N: 4\n",
      "A: [9, 5, 4, 8]\n"
     ]
    }
   ],
   "source": [
    "# input\n",
    "N = int(input())\n",
    "A = list(map(int,input().split()))\n",
    "print('N:', N)\n",
    "print('A:', A)"
   ]
  },
  {
   "cell_type": "code",
   "execution_count": null,
   "metadata": {},
   "outputs": [],
   "source": [
    "# 프린트 해가며 코드짜보자 \n",
    "\n",
    "for i in range(1,N+1):\n",
    "    print(f'A{i} is', A[i-1]) # A1 = A[0]\n",
    "    if len(A[i:])==0:\n",
    "        print(f'  NGE({i}) is -1')\n",
    "        print(f'  no right side for A{i}')\n",
    "        continue\n",
    "    else:\n",
    "        print(f'  right side of A{i} is', A[i:])\n",
    "        target = -1\n",
    "        for j in A[i:]:\n",
    "            if j > A[i-1]:\n",
    "                target = j\n",
    "                break\n",
    "        print(f'  NGE({i}) is {target}')"
   ]
  },
  {
   "cell_type": "code",
   "execution_count": null,
   "metadata": {},
   "outputs": [],
   "source": [
    "# 첫 제출(시간초과)\n",
    "N = int(input())\n",
    "A = list(map(int,input().split()))\n",
    "\n",
    "solution = []\n",
    "for i in range(1,N+1):\n",
    "    if len(A[i:])==0:\n",
    "        solution.append(-1)\n",
    "        continue\n",
    "    else:\n",
    "        target = -1\n",
    "        for j in A[i:]:\n",
    "            if j > A[i-1]:\n",
    "                target = j\n",
    "                break\n",
    "        solution.append(target)\n",
    "\n",
    "print(' '.join(map(str,solution)))"
   ]
  },
  {
   "cell_type": "code",
   "execution_count": 61,
   "metadata": {},
   "outputs": [
    {
     "name": "stdout",
     "output_type": "stream",
     "text": [
      "5 7 7 -1\n"
     ]
    }
   ],
   "source": [
    "# 두번째 제출(시간초과)\n",
    "# target 변수 사용하는 대신 solution = []를 solution = [-1] * 로 설정(기본값 -1)\n",
    "N = int(input())\n",
    "A = list(map(int,input().split()))\n",
    "solution = [-1] * N\n",
    "\n",
    "for i in range(1, N+1):\n",
    "    if len(A[i:]) == 0:\n",
    "        continue\n",
    "    else:\n",
    "        for j in A[i:]:\n",
    "            if j > A[i-1]:\n",
    "                solution[i-1] = j\n",
    "                break\n",
    "\n",
    "print(' '.join(map(str,solution))) # join을 리스트에 적용하려다가 애먹었다 "
   ]
  },
  {
   "cell_type": "markdown",
   "metadata": {},
   "source": [
    "# 시간초과랑 싸워보자 "
   ]
  },
  {
   "cell_type": "code",
   "execution_count": 87,
   "metadata": {},
   "outputs": [],
   "source": [
    "N = int(input())\n",
    "A = list(map(int, input().split()))"
   ]
  },
  {
   "cell_type": "code",
   "execution_count": 102,
   "metadata": {},
   "outputs": [],
   "source": [
    "solution = [-1] * N  # 정답을 저장할 리스트 (기본값 -1)"
   ]
  },
  {
   "cell_type": "markdown",
   "metadata": {},
   "source": [
    "stack 변수를 사용"
   ]
  },
  {
   "cell_type": "code",
   "execution_count": 103,
   "metadata": {},
   "outputs": [],
   "source": [
    "stack = []  # 인덱스를 저장할 스택"
   ]
  },
  {
   "cell_type": "markdown",
   "metadata": {},
   "source": [
    "차이나는 주 요소"
   ]
  },
  {
   "cell_type": "code",
   "execution_count": 104,
   "metadata": {},
   "outputs": [
    {
     "name": "stdout",
     "output_type": "stream",
     "text": [
      "\n",
      "\n",
      "i:  0\n",
      "now stack appended 0 so updated as [0]\n",
      "\n",
      "\n",
      "i:  1\n",
      "stack:  [0] Stack is not empty and meets the condition: 3(A0) < 5(A1)\n",
      "solution now updated as [5, -1, -1, -1]\n",
      "now stack appended 1 so updated as [1]\n",
      "\n",
      "\n",
      "i:  2\n",
      "now stack appended 2 so updated as [1, 2]\n",
      "\n",
      "\n",
      "i:  3\n",
      "stack:  [1, 2] Stack is not empty and meets the condition: 2(A2) < 7(A3)\n",
      "solution now updated as [5, -1, 7, -1]\n",
      "stack:  [1] Stack is not empty and meets the condition: 5(A1) < 7(A3)\n",
      "solution now updated as [5, 7, 7, -1]\n",
      "now stack appended 3 so updated as [3]\n"
     ]
    }
   ],
   "source": [
    "for i in range(N):\n",
    "    print('\\n')\n",
    "    print('i: ', i)\n",
    "\n",
    "    # 스택이 비어있지 않고, 현재 숫자가 스택의 top 인덱스에 해당하는 숫자보다 크면\n",
    "    while stack and A[stack[-1]] < A[i]:\n",
    "        print('stack: ', stack,f\"Stack is not empty and meets the condition: {A[stack[-1]]}(A{stack[-1]}) < {A[i]}(A{i})\")\n",
    "        solution[stack.pop()] = A[i]  # 스택에서 인덱스를 꺼내고, 해당 위치에 오큰수 기록\n",
    "        print(f'solution now updated as {solution}')\n",
    "    stack.append(i)  # 현재 인덱스를 스택에 추가\n",
    "\n",
    "    print(f'now stack appended {i} so updated as {stack}')\n"
   ]
  },
  {
   "cell_type": "code",
   "execution_count": null,
   "metadata": {},
   "outputs": [
    {
     "name": "stdout",
     "output_type": "stream",
     "text": [
      "\n",
      "\n",
      "i:  0\n",
      "now stack appended 0 so updated as [0]\n",
      "\n",
      "\n",
      "i:  1\n",
      "stack:  [0] Stack is not empty and meets the condition: 3(A0) < 5(A1)\n",
      "solution now updated as [5, -1, -1, -1]\n",
      "now stack appended 1 so updated as [1]\n",
      "\n",
      "\n",
      "i:  2\n",
      "now stack appended 2 so updated as [1, 2]\n",
      "\n",
      "\n",
      "i:  3\n",
      "stack:  [1, 2] Stack is not empty and meets the condition: 2(A2) < 7(A3)\n",
      "solution now updated as [5, -1, 7, -1]\n",
      "stack:  [1] Stack is not empty and meets the condition: 5(A1) < 7(A3)\n",
      "solution now updated as [5, 7, 7, -1]\n",
      "now stack appended 3 so updated as [3]\n"
     ]
    }
   ],
   "source": [
    "for i in range(N):\n",
    "    # 스택이 비어있지 않고, 현재 숫자가 스택의 top 인덱스에 해당하는 숫자보다 크면\n",
    "    while stack and A[stack[-1]] < A[i]:\n",
    "        solution[stack.pop()] = A[i]  # 스택에서 인덱스를 꺼내고, 해당 위치에 오큰수 기록\n",
    "    stack.append(i)  # 현재 인덱스를 스택에 추가"
   ]
  },
  {
   "cell_type": "code",
   "execution_count": null,
   "metadata": {},
   "outputs": [],
   "source": [
    "print(' '.join(map(str, solution)))"
   ]
  },
  {
   "cell_type": "markdown",
   "metadata": {},
   "source": [
    "* 다음 링크의 블로그에 굉장히 잘 정리되어 있다. <br>\n",
    "https://velog.io/@waoderboy/%EB%B0%B1%EC%A4%80-17298-%EC%98%A4%ED%81%B0%EC%88%98-%ED%8C%8C%EC%9D%B4%EC%8D%AC"
   ]
  },
  {
   "cell_type": "code",
   "execution_count": 105,
   "metadata": {},
   "outputs": [],
   "source": [
    "N = int(input())\n",
    "A = list(map(int, input().split()))"
   ]
  },
  {
   "cell_type": "code",
   "execution_count": 121,
   "metadata": {},
   "outputs": [],
   "source": [
    "solution = [-1] * N "
   ]
  },
  {
   "cell_type": "code",
   "execution_count": 126,
   "metadata": {},
   "outputs": [
    {
     "data": {
      "text/plain": [
       "[-1, -1, -1, -1]"
      ]
     },
     "execution_count": 126,
     "metadata": {},
     "output_type": "execute_result"
    }
   ],
   "source": [
    "solution"
   ]
  },
  {
   "cell_type": "code",
   "execution_count": 134,
   "metadata": {},
   "outputs": [
    {
     "name": "stdout",
     "output_type": "stream",
     "text": [
      "i 0\n",
      "stack []\n",
      "A[i] 3\n",
      "i 1\n",
      "stack [0]\n",
      "A[i] 2\n",
      "i 2\n",
      "stack [0, 1]\n",
      "A[i] 5\n",
      "i 3\n",
      "stack [2]\n",
      "A[i] 7\n"
     ]
    },
    {
     "data": {
      "text/plain": [
       "[5, 5, 7, -1]"
      ]
     },
     "execution_count": 134,
     "metadata": {},
     "output_type": "execute_result"
    }
   ],
   "source": [
    "solution = [-1] * N\n",
    "stack = []\n",
    "for i in range(N): # 현재 탐색중인 Ai 에 대하여 0\n",
    "    print('i',i)\n",
    "    print('stack', stack)\n",
    "    print(\"A[i]\", A[i])\n",
    "\n",
    "    while stack and A[stack[-1]] < A[i]: # stack 이 비지 않았다면, \n",
    "            solution[stack.pop()] = A[i]\n",
    "    stack.append(i)\n",
    "solution"
   ]
  },
  {
   "cell_type": "code",
   "execution_count": null,
   "metadata": {},
   "outputs": [],
   "source": []
  },
  {
   "cell_type": "code",
   "execution_count": null,
   "metadata": {},
   "outputs": [],
   "source": []
  },
  {
   "cell_type": "code",
   "execution_count": null,
   "metadata": {},
   "outputs": [],
   "source": []
  },
  {
   "cell_type": "markdown",
   "metadata": {},
   "source": [
    "* 음... 정수 리스트랑 정수가 있을 때, 리스트 내에서 정수보다 크면 TRUE, 아니면 FALSE 로 나오게 하려면 어케하지? for 문밖에 방법이 없나?\n",
    "* [1, 2, 3, 4] 랑 3 이 있을 때 3보다 큰가? -> [False, False, False, True] 이렇게 나오게 하는 거 "
   ]
  }
 ],
 "metadata": {
  "kernelspec": {
   "display_name": "Python 3.9.12 ('base')",
   "language": "python",
   "name": "python3"
  },
  "language_info": {
   "codemirror_mode": {
    "name": "ipython",
    "version": 3
   },
   "file_extension": ".py",
   "mimetype": "text/x-python",
   "name": "python",
   "nbconvert_exporter": "python",
   "pygments_lexer": "ipython3",
   "version": "3.9.12"
  },
  "orig_nbformat": 4,
  "vscode": {
   "interpreter": {
    "hash": "212cd9441ec9898fe11d1452af9cd2addff0416c6bf3ef465483bc3a88e4d851"
   }
  }
 },
 "nbformat": 4,
 "nbformat_minor": 2
}
