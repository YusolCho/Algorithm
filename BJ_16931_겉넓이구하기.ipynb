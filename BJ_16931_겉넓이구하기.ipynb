{
 "cells": [
  {
   "cell_type": "markdown",
   "metadata": {},
   "source": [
    "# 문제\n",
    "크기가 N×M인 종이가 있고, 종이는 1×1크기의 칸으로 나누어져 있다. \n",
    "<br>이 종이의 각 칸 위에 1×1×1 크기의 정육면체를 놓아 3차원 도형을 만들었다.\n",
    "<br>종이의 각 칸에 놓인 정육면체의 개수가 주어졌을 때, 이 도형의 겉넓이를 구하는 프로그램을 작성하시오.\n",
    "<br>위의 그림은 3×3 크기의 종이 위에 정육면체를 놓은 것이고, 겉넓이는 60이다.\n",
    "\n",
    "# 입력\n",
    "첫째 줄에 종이의 크기 N, M이 주어진다. <br>\n",
    "둘째 줄부터 N개의 줄에는 종이의 각 칸에 놓인 정육면체의 수가 주어진다.\n",
    "\n",
    "# 출력\n",
    "첫째 줄에 도형의 겉넓이를 출력한다.<br>\n",
    "\n",
    "# 제한\n",
    "1 ≤ N, M ≤ 100<br>\n",
    "1 ≤ 종이의 한 칸에 놓인 정육면체의 수 ≤ 100\n",
    "## 예제 입력 1 \n",
    "1 1<br>\n",
    "1\n",
    "## 예제 출력 1 \n",
    "<br>6\n",
    "\n",
    "## 예제 입력 1 \n",
    "3 3<br>\n",
    "1 3 4<br>\n",
    "2 2 3<br>\n",
    "1 2 4\n",
    "## 예제 출력 1 \n",
    "60"
   ]
  },
  {
   "cell_type": "markdown",
   "metadata": {},
   "source": [
    "<font color = 'forestgreen'>**생각한 방법은 크게 두가지**</font>\n",
    "1. 동서남북 4방향에서 보이는 겉넓이를 각각 구하고 거기에 칸수 * 2(위, 아래에서 보이는 겉넓이) 를 더해주는 방식 \n",
    "2. 각 칸마다 옆칸과의 대소관계(정확히는 차이)를 비교하면서 각 칸마다의 겉넓이를 층별로 누적해서 구해주는 방식 \n",
    "- 실제로 계산 하는 건 1번이 쉽다 \n",
    "- 근데 코드로 옮길 때 동서남북을 어떻게 반영해야 하는가? \n",
    "    - 서: 행단위. 각 행을 왼쪽열부터 스캐닝\n",
    "    - 동: 행단위. 각 행을 오른쪽부터 스캐닝\n",
    "    - 북: 열단위. 각 행을 위쪽부터 스캐닝 \n",
    "    - 남: 열단위. 각 행을 아래쪽부터 스캐닝 \n",
    "- 이럴 바에는 그냥 가로(동서) 세로(남북)으로 묶는 게 낫지 않나?\n",
    "    - 가로(행단위): 1, 3, 4 -> 0 1 3 4 0 -> (1, 3-1, 4-3) & (4, 3-4, 1-3 )\n",
    "        - 1이랑 4는 바깥쪽이니 자동으로 1, 4 한번씩 더해주고, 차이를 배열로 만들면 [2,1]이니까 그것도 한번씩 더해주면 된다 \n",
    "    - 세로(열단위): 1, 2, 1 \n",
    "        - 1이랑 1은 바깥쪽이니 자동으로 1, 1 한번씩 더해주고, 차이를 배열로 만들면 [1,1]이니까 그것도 한번씩 더해주면 된다 \n",
    "\n",
    "- 그럼 for문을 2번 돌리면 된다 \n",
    "1. 가로(행단위) for 문 \n",
    "    - n번째 행에 대해서 \n",
    "    - 0번째 인덱스의 원소 더하고 \n",
    "    - -1번째 인덱스의 원소 더하고 \n",
    "    - m개의 원소들에 대해서 i번째와 i+1번째 원소의 차이의 절댓값을 더해 \n",
    "\n",
    "2. 세로(열단위) for 문 \n",
    "    - 위와 동일 \n",
    "\n",
    "3. 마지막으로 정육면체가 존재하는 칸수 * 2 만큼을 더해주면 된다 "
   ]
  },
  {
   "cell_type": "code",
   "execution_count": 21,
   "metadata": {},
   "outputs": [],
   "source": [
    "n, m = map(int, input().split())\n",
    "building = [list(map(int,input().split()))for _ in range(n)]\n",
    "\n",
    "count = 0\n",
    "\n",
    "for row_index in range(n):\n",
    "    row = building[row_index]\n",
    "    count += row[0]\n",
    "    count += row[-1]\n",
    "    for col in range(m-1):\n",
    "        count += abs(row[col] - row[col+1])\n",
    "\n",
    "for col_index in range(m): \n",
    "    col = []\n",
    "    for i in range(n):\n",
    "        col.append(building[i][col_index])    \n",
    "    count += col[0]\n",
    "    count += col[-1]\n",
    "    for row in range(n-1):\n",
    "        count += abs(col[row] - col[row+1])\n",
    "\n",
    "count = count + (n * m * 2)\n",
    "print(count)"
   ]
  }
 ],
 "metadata": {
  "kernelspec": {
   "display_name": "Python 3.8.16 ('datawrg')",
   "language": "python",
   "name": "python3"
  },
  "language_info": {
   "codemirror_mode": {
    "name": "ipython",
    "version": 3
   },
   "file_extension": ".py",
   "mimetype": "text/x-python",
   "name": "python",
   "nbconvert_exporter": "python",
   "pygments_lexer": "ipython3",
   "version": "3.8.16"
  },
  "orig_nbformat": 4,
  "vscode": {
   "interpreter": {
    "hash": "ab2bf47c83e23e79da7154310486cd6f2111092cec5daef28d72dd2b3b6f44d2"
   }
  }
 },
 "nbformat": 4,
 "nbformat_minor": 2
}
