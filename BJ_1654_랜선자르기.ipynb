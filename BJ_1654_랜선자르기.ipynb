{
 "cells": [
  {
   "cell_type": "markdown",
   "metadata": {},
   "source": [
    "## 문제 \n",
    "집에서 시간을 보내던 오영식은 박성원의 부름을 받고 급히 달려왔다. 박성원이 캠프 때 쓸 N개의 랜선을 만들어야 하는데 너무 바빠서 영식이에게 도움을 청했다.\n",
    "\n",
    "이미 오영식은 자체적으로 K개의 랜선을 가지고 있다. 그러나 K개의 랜선은 길이가 제각각이다. 박성원은 랜선을 모두 N개의 같은 길이의 랜선으로 만들고 싶었기 때문에 K개의 랜선을 잘라서 만들어야 한다. 예를 들어 300cm 짜리 랜선에서 140cm 짜리 랜선을 두 개 잘라내면 20cm는 버려야 한다. (이미 자른 랜선은 붙일 수 없다.)\n",
    "\n",
    "편의를 위해 랜선을 자르거나 만들 때 손실되는 길이는 없다고 가정하며, 기존의 K개의 랜선으로 N개의 랜선을 만들 수 없는 경우는 없다고 가정하자. 그리고 자를 때는 항상 센티미터 단위로 정수길이만큼 자른다고 가정하자. N개보다 많이 만드는 것도 N개를 만드는 것에 포함된다. 이때 만들 수 있는 최대 랜선의 길이를 구하는 프로그램을 작성하시오."
   ]
  },
  {
   "cell_type": "markdown",
   "metadata": {},
   "source": [
    "## 입력\n",
    "<br>첫째 줄에는 오영식이 이미 가지고 있는 랜선의 개수 K, 그리고 필요한 랜선의 개수 N이 입력된다.\n",
    "<br>K는 1이상 10,000이하의 정수이고, N은 1이상 1,000,000이하의 정수이다. 그리고 항상 K ≦ N 이다.\n",
    "<br>그 후 K줄에 걸쳐 이미 가지고 있는 각 랜선의 길이가 센티미터 단위의 정수로 입력된다.\n",
    "<br>랜선의 길이는 231-1보다 작거나 같은 자연수이다.\n",
    "\n",
    "\n",
    "## 출력\n",
    "첫째 줄에 N개를 만들 수 있는 랜선의 최대 길이를 센티미터 단위의 정수로 출력한다.\n",
    "\n",
    "#### 힌트 \n",
    "802cm 랜선에서 4개, 743cm 랜선에서 3개, 457cm 랜선에서 2개, 539cm 랜선에서 2개를 잘라내 모두 11개를 만들 수 있다.\n",
    "\n",
    "<br>4 11\n",
    "<br>802\n",
    "<br>743\n",
    "<br>457\n",
    "<br>539</br>\n",
    "결과: 200\n"
   ]
  },
  {
   "cell_type": "markdown",
   "metadata": {},
   "source": [
    "요약 \n",
    "- L로 길이가 동일한 랜선을 N개(또는 그 이상) 만들어야함 \n",
    "- 이미 K개 갖고 있음 but K개 각각 길이다름 - 잘라서 써야함(붙이기X)\n",
    "- L의 최대값은?"
   ]
  },
  {
   "cell_type": "markdown",
   "metadata": {},
   "source": [
    "# Dribbles"
   ]
  },
  {
   "cell_type": "code",
   "execution_count": 4,
   "metadata": {},
   "outputs": [],
   "source": [
    "k, n = map(int,input().split())\n",
    "k_list = [int(input()) for i in range(k)] # 여서 버퍼링 걸리면 우야노"
   ]
  },
  {
   "cell_type": "code",
   "execution_count": 6,
   "metadata": {},
   "outputs": [
    {
     "data": {
      "text/plain": [
       "[802, 743, 457, 539]"
      ]
     },
     "execution_count": 6,
     "metadata": {},
     "output_type": "execute_result"
    }
   ],
   "source": [
    "k_list"
   ]
  },
  {
   "cell_type": "code",
   "execution_count": 9,
   "metadata": {},
   "outputs": [
    {
     "ename": "TypeError",
     "evalue": "unsupported operand type(s) for //: 'list' and 'int'",
     "output_type": "error",
     "traceback": [
      "\u001b[0;31m---------------------------------------------------------------------------\u001b[0m",
      "\u001b[0;31mTypeError\u001b[0m                                 Traceback (most recent call last)",
      "Cell \u001b[0;32mIn[9], line 1\u001b[0m\n\u001b[0;32m----> 1\u001b[0m k_list\u001b[39m/\u001b[39;49m\u001b[39m/\u001b[39;49m\u001b[39m3\u001b[39;49m\n",
      "\u001b[0;31mTypeError\u001b[0m: unsupported operand type(s) for //: 'list' and 'int'"
     ]
    }
   ],
   "source": [
    "k_list//3 # 리스트 내 정수들에 대해서 한방에 계산할 수느 ㄴ없나??"
   ]
  },
  {
   "cell_type": "code",
   "execution_count": null,
   "metadata": {},
   "outputs": [],
   "source": [
    "a = [i//200 for i in k_list]"
   ]
  },
  {
   "cell_type": "code",
   "execution_count": 10,
   "metadata": {},
   "outputs": [
    {
     "name": "stdout",
     "output_type": "stream",
     "text": [
      "[4, 3, 2, 2]\n"
     ]
    }
   ],
   "source": [
    "for i in k_list:\n",
    "    a.append(i//200)\n",
    "print(a)"
   ]
  },
  {
   "cell_type": "code",
   "execution_count": 16,
   "metadata": {},
   "outputs": [
    {
     "name": "stdout",
     "output_type": "stream",
     "text": [
      "200\n"
     ]
    }
   ],
   "source": [
    "for l in range(min(k_list),1, -1): # 시간 너무 오래 걸리진 않을까? binary search.. 그거 써야하나? 함수 외워둘까?\n",
    "    if sum([i//l for i in k_list]) == n:  #고민. 리스트를 순회하면서 l로 나눠줘야 함. 인덱스 0-len(k_list)가 필요. 꼭 for 문으로 해야할까? \n",
    "        print(l)\n",
    "        break"
   ]
  },
  {
   "cell_type": "markdown",
   "metadata": {},
   "source": [
    "# 호기롭게 첫번째 제출"
   ]
  },
  {
   "cell_type": "code",
   "execution_count": 2,
   "metadata": {},
   "outputs": [
    {
     "name": "stdout",
     "output_type": "stream",
     "text": [
      "200\n"
     ]
    }
   ],
   "source": [
    "k, n = map(int,input().split())\n",
    "k_list = [int(input()) for i in range(k)]\n",
    "\n",
    "for l in range(min(k_list),1, -1): \n",
    "    if sum([i//l for i in k_list]) == n: \n",
    "        print(l)\n",
    "        break"
   ]
  },
  {
   "cell_type": "markdown",
   "metadata": {},
   "source": [
    "- 응 틀렸대.. \n",
    "- 왜 틀렸지 내 코드는 완벽한데 "
   ]
  },
  {
   "cell_type": "markdown",
   "metadata": {},
   "source": [
    "# 혹시 이건가? 두번째 제출"
   ]
  },
  {
   "cell_type": "code",
   "execution_count": 23,
   "metadata": {},
   "outputs": [
    {
     "name": "stdout",
     "output_type": "stream",
     "text": [
      "11\n"
     ]
    }
   ],
   "source": [
    "k, n = map(int,input().split())\n",
    "k_list = [int(input()) for i in range(k)]\n",
    "\n",
    "for l in range(min(k_list),0, -1): # 1까지 검사하려면 마지막을 0으로 설정해야 그 앞까지 순환함 \n",
    "    if sum([i//l for i in k_list]) >= n:  # 등호를 부등호로 변경\n",
    "        print(l)\n",
    "        break"
   ]
  },
  {
   "cell_type": "markdown",
   "metadata": {},
   "source": [
    "- 또 틀렸음 \n",
    "- 틀린 이유: 시간 오래 걸림 -> '2초' 시간 제한 존재 -> 이제봤다\n",
    "- <font color='royalblue'>**그러면 어떻게 해야?**</font>\n",
    "    - 이진 탐색(Binary Search)"
   ]
  },
  {
   "cell_type": "markdown",
   "metadata": {},
   "source": [
    "# Dribbles"
   ]
  },
  {
   "cell_type": "code",
   "execution_count": 4,
   "metadata": {},
   "outputs": [
    {
     "ename": "KeyboardInterrupt",
     "evalue": "",
     "output_type": "error",
     "traceback": [
      "\u001b[0;31m---------------------------------------------------------------------------\u001b[0m",
      "\u001b[0;31mKeyboardInterrupt\u001b[0m                         Traceback (most recent call last)",
      "Cell \u001b[0;32mIn[4], line 15\u001b[0m\n\u001b[1;32m     12\u001b[0m \u001b[39mdef\u001b[39;00m \u001b[39mcondition_check\u001b[39m(mid):\n\u001b[1;32m     13\u001b[0m     \u001b[39mreturn\u001b[39;00m (\u001b[39msum\u001b[39m([i\u001b[39m/\u001b[39m\u001b[39m/\u001b[39mmid \u001b[39mfor\u001b[39;00m i \u001b[39min\u001b[39;00m k_list]) \u001b[39m>\u001b[39m\u001b[39m=\u001b[39m n)\n\u001b[0;32m---> 15\u001b[0m binary_search(\u001b[39m1\u001b[39;49m,\u001b[39mmin\u001b[39;49m(k_list), condition_check)\n",
      "Cell \u001b[0;32mIn[4], line 4\u001b[0m, in \u001b[0;36mbinary_search\u001b[0;34m(low, high, condition_check)\u001b[0m\n\u001b[1;32m      2\u001b[0m mid \u001b[39m=\u001b[39m (low\u001b[39m+\u001b[39mhigh)\u001b[39m/\u001b[39m\u001b[39m/\u001b[39m\u001b[39m2\u001b[39m\n\u001b[1;32m      3\u001b[0m \u001b[39mwhile\u001b[39;00m low \u001b[39m<\u001b[39m\u001b[39m=\u001b[39m high:\n\u001b[0;32m----> 4\u001b[0m     \u001b[39mif\u001b[39;00m condition_check(mid):\n\u001b[1;32m      5\u001b[0m         low  \u001b[39m=\u001b[39m mid \u001b[39m+\u001b[39m \u001b[39m1\u001b[39m\n\u001b[1;32m      7\u001b[0m     \u001b[39melse\u001b[39;00m:\n",
      "Cell \u001b[0;32mIn[4], line 13\u001b[0m, in \u001b[0;36mcondition_check\u001b[0;34m(mid)\u001b[0m\n\u001b[1;32m     12\u001b[0m \u001b[39mdef\u001b[39;00m \u001b[39mcondition_check\u001b[39m(mid):\n\u001b[0;32m---> 13\u001b[0m     \u001b[39mreturn\u001b[39;00m (\u001b[39msum\u001b[39m([i\u001b[39m/\u001b[39m\u001b[39m/\u001b[39mmid \u001b[39mfor\u001b[39;00m i \u001b[39min\u001b[39;00m k_list]) \u001b[39m>\u001b[39m\u001b[39m=\u001b[39m n)\n",
      "Cell \u001b[0;32mIn[4], line 13\u001b[0m, in \u001b[0;36m<listcomp>\u001b[0;34m(.0)\u001b[0m\n\u001b[1;32m     12\u001b[0m \u001b[39mdef\u001b[39;00m \u001b[39mcondition_check\u001b[39m(mid):\n\u001b[0;32m---> 13\u001b[0m     \u001b[39mreturn\u001b[39;00m (\u001b[39msum\u001b[39m([i\u001b[39m/\u001b[39m\u001b[39m/\u001b[39mmid \u001b[39mfor\u001b[39;00m i \u001b[39min\u001b[39;00m k_list]) \u001b[39m>\u001b[39m\u001b[39m=\u001b[39m n)\n",
      "\u001b[0;31mKeyboardInterrupt\u001b[0m: "
     ]
    }
   ],
   "source": [
    "def binary_search(low, high, condition_check):\n",
    "    mid = (low+high)//2\n",
    "    while low <= high:\n",
    "        if condition_check(mid):\n",
    "            low  = mid + 1\n",
    "\n",
    "        else:\n",
    "            high = mid - 1\n",
    "\n",
    "    return mid \n",
    "\n",
    "def condition_check(mid):\n",
    "    return (sum([i//mid for i in k_list]) >= n)\n",
    "\n",
    "binary_search(1,min(k_list), condition_check)"
   ]
  },
  {
   "cell_type": "code",
   "execution_count": null,
   "metadata": {},
   "outputs": [],
   "source": [
    "k, n = map(int,input().split())\n",
    "k_list = [int(input()) for i in range(k)]"
   ]
  },
  {
   "cell_type": "code",
   "execution_count": 8,
   "metadata": {},
   "outputs": [
    {
     "data": {
      "text/plain": [
       "11"
      ]
     },
     "execution_count": 8,
     "metadata": {},
     "output_type": "execute_result"
    }
   ],
   "source": [
    "k, n = map(int,input().split())\n",
    "k_list = [int(input()) for i in range(k)]\n",
    "\n",
    "def binary_search(low, high, condition_check):\n",
    "    result = 0\n",
    "\n",
    "    while low <= high:\n",
    "        mid = (low+high)//2\n",
    "        if condition_check(mid):\n",
    "            result = mid \n",
    "            low  = mid + 1\n",
    "\n",
    "        else:\n",
    "            high = mid - 1\n",
    "\n",
    "    return result \n",
    "\n",
    "def condition_check(mid):  \n",
    "    return (sum([i//mid for i in k_list]) >= n)\n",
    "\n",
    "binary_search(1,min(k_list), condition_check)"
   ]
  },
  {
   "cell_type": "markdown",
   "metadata": {},
   "source": [
    "# Solution"
   ]
  },
  {
   "cell_type": "code",
   "execution_count": 12,
   "metadata": {},
   "outputs": [
    {
     "data": {
      "text/plain": [
       "11"
      ]
     },
     "execution_count": 12,
     "metadata": {},
     "output_type": "execute_result"
    }
   ],
   "source": [
    "# 인풋 저장하기 \n",
    "k, n = map(int,input().split()) # k=4, n=11 각각 정수로 변환해서 저장\n",
    "k_list = [int(input()) for i in range(k)] # k개만큼의 정수를 하나의 리스트에 저장 # [802, 743, 457, 539]\n",
    "\n",
    "# 이진탐색 함수 정의하기(템플릿)\n",
    "def binary_search(low, high, condition_check): \n",
    "    result = 0\n",
    "\n",
    "    while low <= high:\n",
    "        mid = (low+high)//2\n",
    "        if condition_check(mid):\n",
    "            result = mid \n",
    "            low  = mid + 1\n",
    "\n",
    "        else:\n",
    "            high = mid - 1\n",
    "\n",
    "    return result \n",
    "\n",
    "# 이진탐색 함수의 조건함수 정의하기\n",
    "def condition_check(mid):  \n",
    "    return sum(i//mid for i in k_list) >= n # k 리스트의 인자를 각각 mid로 나눈 몫의 합이 n 이상인가? \n",
    "    # = 802//mid + 743//mid + 457//mid + 539//mid 의 값이 n 혹은 그 이상인가?\n",
    "\n",
    "solution = binary_search(1,max(k_list), condition_check)\n",
    "print(solution) # 백준은 이거 해줘야함 \n",
    "\n",
    "# binary_search(1,max(k_list), condition_check) -> 틀렸다고 뜸 😡"
   ]
  },
  {
   "cell_type": "code",
   "execution_count": null,
   "metadata": {},
   "outputs": [],
   "source": [
    "k, n = map(int, input().split())\n",
    "lengths = [int(input()) for _ in range(k)]\n",
    "\n",
    "# 변수 초기화\n",
    "low, high = 1, max(lengths)\n",
    "best_length = 0\n",
    "\n",
    "while low <= high:\n",
    "    mid = (low + high) // 2 # 몫만 구하기 위햐\n",
    "    # mid길이 만큼의 랜선을 몇 개 만들 수 있는지\n",
    "    count = 0\n",
    "    for length in lengths:\n",
    "        count += length // mid\n",
    "    if count >= n: # 최소 개수 만족하면\n",
    "        best_length = mid\n",
    "        low = mid + 1 # 그 이상의 값을 탐색 (최대 랜선의 길이를 구해야 하므로)\n",
    "    else:\n",
    "        high = mid - 1 # 그 이하의 값들 탐색\n",
    "        \n",
    "print(best_length)"
   ]
  }
 ],
 "metadata": {
  "kernelspec": {
   "display_name": "Python 3.8.16 ('datawrg')",
   "language": "python",
   "name": "python3"
  },
  "language_info": {
   "codemirror_mode": {
    "name": "ipython",
    "version": 3
   },
   "file_extension": ".py",
   "mimetype": "text/x-python",
   "name": "python",
   "nbconvert_exporter": "python",
   "pygments_lexer": "ipython3",
   "version": "3.8.16"
  },
  "orig_nbformat": 4,
  "vscode": {
   "interpreter": {
    "hash": "ab2bf47c83e23e79da7154310486cd6f2111092cec5daef28d72dd2b3b6f44d2"
   }
  }
 },
 "nbformat": 4,
 "nbformat_minor": 2
}
