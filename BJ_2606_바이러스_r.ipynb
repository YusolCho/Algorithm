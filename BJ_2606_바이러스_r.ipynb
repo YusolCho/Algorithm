{
 "cells": [
  {
   "cell_type": "markdown",
   "metadata": {},
   "source": [
    "# 입력\n",
    "첫째 줄에는 컴퓨터의 수가 주어진다. 컴퓨터의 수는 100 이하인 양의 정수이고 각 컴퓨터에는 1번 부터 차례대로 번호가 매겨진다. \n",
    "<br>둘째 줄에는 네트워크 상에서 직접 연결되어 있는 컴퓨터 쌍의 수가 주어진다. \n",
    "<br>이어서 그 수만큼 한 줄에 한 쌍씩 네트워크 상에서 직접 연결되어 있는 컴퓨터의 번호 쌍이 주어진다.\n",
    "\n",
    "# 출력\n",
    "1번 컴퓨터가 웜 바이러스에 걸렸을 때, 1번 컴퓨터를 통해 웜 바이러스에 걸리게 되는 컴퓨터의 수를 첫째 줄에 출력한다."
   ]
  },
  {
   "cell_type": "markdown",
   "metadata": {},
   "source": [
    "## 예제 입력 \n",
    "7<br>\n",
    "6<br>\n",
    "1 2<br>\n",
    "2 3<br>\n",
    "1 5<br>\n",
    "5 2<br>\n",
    "5 6<br>\n",
    "4 7<br>\n"
   ]
  },
  {
   "cell_type": "markdown",
   "metadata": {},
   "source": [
    "* 전형적인 dfs/bfs 문제.\n",
    "* 이전에 풀었던 덩어리 개수 세는 문제와 같은 결이다."
   ]
  },
  {
   "cell_type": "markdown",
   "metadata": {},
   "source": [
    "#### <font color ='forestgreen'>**어떻게 풀 것인가?**</font>\n",
    "* 만만한 **bfs로** 풀자(시간 복잡도도 얘가 낫다)\n",
    "* **1차원으로** 접근한다 \n",
    "* 고민되는 건 **자료구조**\n",
    "    * 노드와 간선을 어떤 자료구조로 저장했더라? 일단 지금 생각 나는 건 크게 두가지 \n",
    "    1. **인접 리스트 방식**: 2차원리스트의 n번째 인덱스에 n번째 노드와 연결된 노드들을 모두 저장하는 방식 \n",
    "        * [1, 2]가 주어졌을 때 1번에 대해서도 저장해야하고 2번에 대해서도 저장해야한다. \n",
    "        * list_name[1].append(2)\n",
    "        * list_name[2].append(1)\n",
    "    2. **딕셔너리 방식**: 딕셔너리의 'n'키에 n번째 노드와 연결된 노드들을 모두 저장하는 방식 \n",
    "        * dict_name[1].append(2)\n",
    "        * dict_name[2].append(1)\n",
    "    * 다루기 쉬운 **리스트**로 일단 접근해보자\n"
   ]
  },
  {
   "cell_type": "code",
   "execution_count": 32,
   "metadata": {},
   "outputs": [],
   "source": [
    "from collections import deque\n",
    "\n",
    "\n",
    "# 인풋\n",
    "computers_num = int(input())\n",
    "couples_num = int(input())\n",
    "couples = [] \n",
    "for _ in range(couples_num):\n",
    "    couples.append(list(map(int, input().split())))\n",
    "    \n",
    "\n",
    "# 노드 데이터 생성\n",
    "graph = [[] for _ in range(computers_num+1)]  # 1을 더해준 이유는 인덱스 번호와 실제 그래프의 번호를 일치시키기 위함\n",
    "for couple in couples:\n",
    "    graph[couple[0]].append(couple[1]) \n",
    "    graph[couple[1]].append(couple[0])\n",
    "\n",
    "\n",
    "# 기본 세팅\n",
    "start = 1    # 1번 컴퓨터가 바이러스에 걸렸다 \n",
    "q = deque()\n",
    "q.append(start)\n",
    "visited = [False for _ in range(computers_num+1)]\n",
    "visited[start] = True\n",
    "\n",
    "\n",
    "# bfs 함수 \n",
    "def bfs(start):\n",
    "    count = 0   # 감염된 컴퓨터의 수\n",
    "    while q:\n",
    "        current_node = q.popleft()\n",
    "        next_nodes = graph[current_node]\n",
    "        for i in range(len(next_nodes)):\n",
    "            next_node = next_nodes[i]\n",
    "            if (1 <= next_node <= computers_num) and not (visited[next_node]): # 다음 후보가 범위 내에 있고 아직 방문하지 않았다면 \n",
    "                visited[next_node] = True\n",
    "                q.append(next_node)\n",
    "                count += 1\n",
    "    return count\n",
    "\n",
    "\n",
    "# 정답 출력\n",
    "print(bfs(start))"
   ]
  }
 ],
 "metadata": {
  "kernelspec": {
   "display_name": "Python 3.8.16 ('datawrg')",
   "language": "python",
   "name": "python3"
  },
  "language_info": {
   "codemirror_mode": {
    "name": "ipython",
    "version": 3
   },
   "file_extension": ".py",
   "mimetype": "text/x-python",
   "name": "python",
   "nbconvert_exporter": "python",
   "pygments_lexer": "ipython3",
   "version": "3.8.16"
  },
  "orig_nbformat": 4,
  "vscode": {
   "interpreter": {
    "hash": "ab2bf47c83e23e79da7154310486cd6f2111092cec5daef28d72dd2b3b6f44d2"
   }
  }
 },
 "nbformat": 4,
 "nbformat_minor": 2
}
