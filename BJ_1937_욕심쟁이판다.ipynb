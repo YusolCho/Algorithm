{
 "cells": [
  {
   "cell_type": "markdown",
   "metadata": {},
   "source": [
    "## 문제\n",
    "<br>n × n의 크기의 대나무 숲이 있다. 욕심쟁이 판다는 어떤 지역에서 대나무를 먹기 시작한다. \n",
    "<br>그리고 그 곳의 대나무를 다 먹어 치우면 상, 하, 좌, 우 중 한 곳으로 이동을 한다. \n",
    "<br>그리고 또 그곳에서 대나무를 먹는다. \n",
    "<br>그런데 단 조건이 있다. \n",
    "<br>이 판다는 매우 욕심이 많아서 대나무를 먹고 자리를 옮기면 그 옮긴 지역에 그 전 지역보다 대나무가 많이 있어야 한다.\n",
    "\n",
    "<br>이 판다의 사육사는 이런 판다를 대나무 숲에 풀어 놓아야 하는데, 어떤 지점에 처음에 풀어 놓아야 하고, 어떤 곳으로 이동을 시켜야 판다가 최대한 많은 칸을 방문할 수 있는지 고민에 빠져 있다. \n",
    "<br>우리의 임무는 이 사육사를 도와주는 것이다. \n",
    "<br>n × n 크기의 대나무 숲이 주어져 있을 때, 이 판다가 최대한 많은 칸을 이동하려면 어떤 경로를 통하여 움직여야 하는지 구하여라."
   ]
  },
  {
   "cell_type": "markdown",
   "metadata": {},
   "source": [
    "* 요약\n",
    "    * 그래프: n*n\n",
    "    * 이동: 상하좌우 중 하나, 대나무가 더 많은 곳\n",
    "    * 시작점: 임의지정\n",
    "    * 방문칸 수 최대화\n",
    "    * 대나무 먹고 더 많은 데로 이동하고 또 먹고 더 많은 데로 이동하고,..."
   ]
  },
  {
   "cell_type": "markdown",
   "metadata": {},
   "source": [
    "## 입력\n",
    "<br>첫째 줄에 대나무 숲의 크기 n(1 ≤ n ≤ 500)이 주어진다. \n",
    "<br>그리고 둘째 줄부터 n+1번째 줄까지 대나무 숲의 정보가 주어진다. \n",
    "<br>대나무 숲의 정보는 공백을 사이로 두고 각 지역의 대나무의 양이 정수 값으로 주어진다. \n",
    "<br>대나무의 양은 1,000,000보다 작거나 같은 자연수이다.\n",
    "\n",
    "## 출력\n",
    "<br>첫째 줄에는 판다가 이동할 수 있는 칸의 수의 최댓값을 출력한다.\n",
    "\n",
    "### 예제 입력 1 \n",
    "<br>4\n",
    "<br>14 9 12 10\n",
    "<br>1 11 5 4\n",
    "<br>7 15 2 13\n",
    "<br>6 3 16 8\n",
    "### 예제 출력 1 \n",
    "4"
   ]
  },
  {
   "cell_type": "markdown",
   "metadata": {},
   "source": [
    "* 요약\n",
    "    * 그래프: n*n\n",
    "    * 이동: 상하좌우 중 하나, 대나무가 더 많은 곳\n",
    "    * 시작점: 임의지정\n",
    "    * 목적: 판다의 방문 칸 수 최대화\n",
    "    * 출력:판다가 이동할 수 있는 칸의 수의 최댓값\n",
    "    * 대나무 먹고 더 많은 데로 이동하고 또 먹고 더 많은 데로 이동하고,..."
   ]
  },
  {
   "cell_type": "markdown",
   "metadata": {},
   "source": [
    "# Solution"
   ]
  },
  {
   "cell_type": "code",
   "execution_count": 11,
   "metadata": {},
   "outputs": [],
   "source": [
    "# input\n",
    "n = int(input())\n",
    "graph = [list(map(int, input().split())) for _ in range(n)]\n",
    "\n",
    "# 방향키\n",
    "dx = (-1, 1, 0, 0)\n",
    "dy = (0, 0, -1, 1)\n",
    "\n",
    "# 메모용 테이블(각 지점의 방문여부 + 출발점으로 했을 때 최대 경로의 길이를 저장할 변수)\n",
    "visited = [[0] * n for _ in range(n)]\n",
    "\n",
    "def dfs(x, y):\n",
    "    # 방문한 적 있으면\n",
    "    if visited[x][y]:  \n",
    "        return visited[x][y] # 그 때 저장해둔 값 그대로 사용\n",
    "\n",
    "    # 첫 방문이면\n",
    "    visited[x][y] = 1  # 해당 위치는 일단 밟았으니 최소 1부터 시작\n",
    "\n",
    "    # 네 방향 탐색\n",
    "    for d in range(4):  \n",
    "        nx = x + dx[d] # nx, ny 설정\n",
    "        ny = y + dy[d]\n",
    "        if not (0 <= nx < n and 0 <= ny < n):  # nx, ny(탐색 후보 노드)가 범위 밖이면\n",
    "            continue # 무시\n",
    "        \n",
    "        if graph[x][y] < graph[nx][ny]:  # 이동할 위치의 대나무가 더 많으면\n",
    "            visited[x][y] = max(visited[x][y], dfs(nx, ny) + 1) # 현재 위치의 최대 경로 길이를 갱신\n",
    "    \n",
    "    return visited[x][y] # 최대 경로 길이 반환 \n",
    "\n",
    "# graph의 모든 지점에서 DFS 수행\n",
    "for x in range(n):\n",
    "    for y in range(n): \n",
    "        if not visited[x][y]:  # DFS함수 실행 전, 아직 방문하지 않았는지 점검\n",
    "            dfs(x, y)\n",
    "\n",
    "print(max(max(visited)))\n"
   ]
  }
 ],
 "metadata": {
  "kernelspec": {
   "display_name": "Python 3.8.16 ('datawrg')",
   "language": "python",
   "name": "python3"
  },
  "language_info": {
   "codemirror_mode": {
    "name": "ipython",
    "version": 3
   },
   "file_extension": ".py",
   "mimetype": "text/x-python",
   "name": "python",
   "nbconvert_exporter": "python",
   "pygments_lexer": "ipython3",
   "version": "3.8.16"
  },
  "orig_nbformat": 4,
  "vscode": {
   "interpreter": {
    "hash": "ab2bf47c83e23e79da7154310486cd6f2111092cec5daef28d72dd2b3b6f44d2"
   }
  }
 },
 "nbformat": 4,
 "nbformat_minor": 2
}
