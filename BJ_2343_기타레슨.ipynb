{
 "cells": [
  {
   "cell_type": "markdown",
   "metadata": {},
   "source": [
    "## 문제\n",
    "강토는 자신의 기타 강의 동영상을 블루레이로 만들어 판매하려고 한다. \n",
    "<br>블루레이에는 총 N개의 강의가 들어가는데, 블루레이를 녹화할 때, 강의의 순서가 바뀌면 안 된다. \n",
    "<br>순서가 뒤바뀌는 경우에는 강의의 흐름이 끊겨, 학생들이 대혼란에 빠질 수 있기 때문이다. \n",
    "<br>즉, i번 강의와 j번 강의를 같은 블루레이에 녹화하려면 i와 j 사이의 모든 강의도 같은 블루레이에 녹화해야 한다.\n",
    "\n",
    "강토는 이 블루레이가 얼마나 팔릴지 아직 알 수 없기 때문에, 블루레이의 개수를 가급적 줄이려고 한다. \n",
    "<br>오랜 고민 끝에 강토는 M개의 블루레이에 모든 기타 강의 동영상을 녹화하기로 했다. \n",
    "<br>이때, 블루레이의 크기(녹화 가능한 길이)를 최소로 하려고 한다. 단, M개의 블루레이는 모두 같은 크기이어야 한다.\n",
    "\n",
    "강토의 각 강의의 길이가 분 단위(자연수)로 주어진다. 이때, 가능한 블루레이의 크기 중 최소를 구하는 프로그램을 작성하시오."
   ]
  },
  {
   "cell_type": "code",
   "execution_count": 2,
   "metadata": {},
   "outputs": [
    {
     "name": "stdout",
     "output_type": "stream",
     "text": [
      "17\n"
     ]
    }
   ],
   "source": [
    "# input \n",
    "n, m = map(int,input().split()) \n",
    "lectures = [int(i) for i in input().split()]\n",
    "\n",
    "# range of 'mid'\n",
    "start = max(lectures) \n",
    "end = sum(lectures) \n",
    "\n",
    "# define function 'binary_search' \n",
    "def binary_search(low, high, condition_check):\n",
    "    result = 0\n",
    "\n",
    "    while low <= high:\n",
    "        mid = (low + high) // 2\n",
    "        if condition_check(mid):\n",
    "            result = mid\n",
    "            high = mid - 1\n",
    "        else:\n",
    "            low = mid + 1 \n",
    "\n",
    "    return result \n",
    "\n",
    "# define function 'condition_check'\n",
    "def condition_check(mid):\n",
    "    len_blueray = 0 \n",
    "    num_blueray = 1\n",
    "\n",
    "    for lecture in lectures:\n",
    "        if len_blueray + lecture <= mid: \n",
    "            len_blueray += lecture \n",
    "        else: \n",
    "            len_blueray = lecture\n",
    "            num_blueray += 1 \n",
    "        \n",
    "    return (num_blueray <= m)\n",
    "\n",
    "solution = binary_search(start, end, condition_check)\n",
    "print(solution) "
   ]
  },
  {
   "cell_type": "code",
   "execution_count": null,
   "metadata": {},
   "outputs": [],
   "source": []
  },
  {
   "cell_type": "code",
   "execution_count": null,
   "metadata": {},
   "outputs": [],
   "source": []
  }
 ],
 "metadata": {
  "kernelspec": {
   "display_name": "Python 3.8.16 ('datawrg')",
   "language": "python",
   "name": "python3"
  },
  "language_info": {
   "codemirror_mode": {
    "name": "ipython",
    "version": 3
   },
   "file_extension": ".py",
   "mimetype": "text/x-python",
   "name": "python",
   "nbconvert_exporter": "python",
   "pygments_lexer": "ipython3",
   "version": "3.8.16"
  },
  "orig_nbformat": 4,
  "vscode": {
   "interpreter": {
    "hash": "ab2bf47c83e23e79da7154310486cd6f2111092cec5daef28d72dd2b3b6f44d2"
   }
  }
 },
 "nbformat": 4,
 "nbformat_minor": 2
}
