{
 "cells": [
  {
   "cell_type": "markdown",
   "metadata": {},
   "source": [
    "## 문제\n",
    "<br>정렬된 두 묶음의 숫자 카드가 있다고 하자. \n",
    "<br>각 묶음의 카드의 수를 A, B라 하면 보통 두 묶음을 합쳐서 하나로 만드는 데에는 A+B 번의 비교를 해야 한다. \n",
    "<br>이를테면, 20장의 숫자 카드 묶음과 30장의 숫자 카드 묶음을 합치려면 50번의 비교가 필요하다.\n",
    "\n",
    "<br>매우 많은 숫자 카드 묶음이 책상 위에 놓여 있다. 이들을 두 묶음씩 골라 서로 합쳐나간다면, 고르는 순서에 따라서 비교 횟수가 매우 달라진다. \n",
    "<br>예를 들어 10장, 20장, 40장의 묶음이 있다면 10장과 20장을 합친 뒤, 합친 30장 묶음과 40장을 합친다면 (10 + 20) + (30 + 40) = 100번의 비교가 필요하다. \n",
    "<br>그러나 10장과 40장을 합친 뒤, 합친 50장 묶음과 20장을 합친다면 (10 + 40) + (50 + 20) = 120 번의 비교가 필요하므로 덜 효율적인 방법이다.\n",
    "\n",
    "<br>N개의 숫자 카드 묶음의 각각의 크기가 주어질 때, 최소한 몇 번의 비교가 필요한지를 구하는 프로그램을 작성하시오."
   ]
  },
  {
   "cell_type": "markdown",
   "metadata": {},
   "source": [
    "* 요약 \n",
    "    * 두 묶음을 하나로: 더하기 \n",
    "    * N개의 숫자카드 묶음을 더할 때의 최소값"
   ]
  },
  {
   "cell_type": "markdown",
   "metadata": {},
   "source": [
    "## 입력\n",
    "첫째 줄에 N이 주어진다. (1 ≤ N ≤ 100,000) 이어서 N개의 줄에 걸쳐 숫자 카드 묶음의 각각의 크기가 주어진다. \n",
    "<br>숫자 카드 묶음의 크기는 1,000보다 작거나 같은 양의 정수이다.\n",
    "\n",
    "## 출력\n",
    "첫째 줄에 최소 비교 횟수를 출력한다.\n",
    "\n",
    "### 예제 입력 1 \n",
    "3\n",
    "10\n",
    "20\n",
    "40\n",
    "### 예제 출력 1 \n",
    "100"
   ]
  },
  {
   "cell_type": "code",
   "execution_count": 1,
   "metadata": {},
   "outputs": [],
   "source": [
    "n = int(input()) # 총 묶음의 개수"
   ]
  },
  {
   "cell_type": "code",
   "execution_count": 7,
   "metadata": {},
   "outputs": [],
   "source": [
    "cards_list = [int(input(i)) for i in range(n)]"
   ]
  },
  {
   "cell_type": "code",
   "execution_count": null,
   "metadata": {},
   "outputs": [],
   "source": [
    "10 20 40\n",
    "10 + 20 = 30 \n",
    "30 + 40 = 70 ;\n",
    "30 + 70 = 100\n",
    "\n",
    "40 + 20 = 60 \n",
    "60 + 10 = 70 ;\n",
    "60 + 70 = 130 \n",
    "\n",
    "\n",
    "40 + 10 = 50\n",
    "50 + 20 = 70;\n",
    "50 + 70 = 120\n",
    "\n",
    "\n",
    "\n",
    "20 50 10 30 90 \n",
    "10 20 30 50 90 \n",
    "\n",
    "10 20 = 30 \n",
    "30 30 = 60 \n",
    "60 50 = 110\n",
    "110 + 90 = 200 \n",
    "30 60 110 200 = 400\n",
    "\n",
    "20 50 = 70 \n",
    "70 10 = 80\n",
    "80 30 = 110\n",
    "110 90 = 200\n",
    "70 80 110 200 = 460\n",
    "\n",
    "10 20 90 50 30 \n",
    "10 20 = 30 \n",
    "30 90 = 120\n",
    "120 50 = 170 \n",
    "170 30 = 200 \n",
    "520 "
   ]
  },
  {
   "cell_type": "code",
   "execution_count": null,
   "metadata": {},
   "outputs": [],
   "source": []
  }
 ],
 "metadata": {
  "kernelspec": {
   "display_name": "Python 3.9.12 ('base')",
   "language": "python",
   "name": "python3"
  },
  "language_info": {
   "codemirror_mode": {
    "name": "ipython",
    "version": 3
   },
   "file_extension": ".py",
   "mimetype": "text/x-python",
   "name": "python",
   "nbconvert_exporter": "python",
   "pygments_lexer": "ipython3",
   "version": "3.9.12"
  },
  "orig_nbformat": 4,
  "vscode": {
   "interpreter": {
    "hash": "212cd9441ec9898fe11d1452af9cd2addff0416c6bf3ef465483bc3a88e4d851"
   }
  }
 },
 "nbformat": 4,
 "nbformat_minor": 2
}
