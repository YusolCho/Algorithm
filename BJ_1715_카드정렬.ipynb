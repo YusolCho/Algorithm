{
 "cells": [
  {
   "cell_type": "markdown",
   "metadata": {},
   "source": [
    "## 문제\n",
    "<br>정렬된 두 묶음의 숫자 카드가 있다고 하자. \n",
    "<br>각 묶음의 카드의 수를 A, B라 하면 보통 두 묶음을 합쳐서 하나로 만드는 데에는 A+B 번의 비교를 해야 한다. \n",
    "<br>이를테면, 20장의 숫자 카드 묶음과 30장의 숫자 카드 묶음을 합치려면 50번의 비교가 필요하다.\n",
    "\n",
    "<br>매우 많은 숫자 카드 묶음이 책상 위에 놓여 있다. 이들을 두 묶음씩 골라 서로 합쳐나간다면, 고르는 순서에 따라서 비교 횟수가 매우 달라진다. \n",
    "<br>예를 들어 10장, 20장, 40장의 묶음이 있다면 10장과 20장을 합친 뒤, 합친 30장 묶음과 40장을 합친다면 (10 + 20) + (30 + 40) = 100번의 비교가 필요하다. \n",
    "<br>그러나 10장과 40장을 합친 뒤, 합친 50장 묶음과 20장을 합친다면 (10 + 40) + (50 + 20) = 120 번의 비교가 필요하므로 덜 효율적인 방법이다.\n",
    "\n",
    "<br>N개의 숫자 카드 묶음의 각각의 크기가 주어질 때, 최소한 몇 번의 비교가 필요한지를 구하는 프로그램을 작성하시오."
   ]
  },
  {
   "cell_type": "markdown",
   "metadata": {},
   "source": [
    "* 요약 \n",
    "    * 두 묶음을 하나로: 더하기 \n",
    "    * N개의 숫자카드 묶음을 더할 때의 최소값"
   ]
  },
  {
   "cell_type": "markdown",
   "metadata": {},
   "source": [
    "## 입력\n",
    "첫째 줄에 N이 주어진다. (1 ≤ N ≤ 100,000) 이어서 N개의 줄에 걸쳐 숫자 카드 묶음의 각각의 크기가 주어진다. \n",
    "<br>숫자 카드 묶음의 크기는 1,000보다 작거나 같은 양의 정수이다.\n",
    "\n",
    "## 출력\n",
    "첫째 줄에 최소 비교 횟수를 출력한다.\n",
    "\n",
    "### 예제 입력 1 \n",
    "3\n",
    "10\n",
    "20\n",
    "40\n",
    "### 예제 출력 1 \n",
    "100"
   ]
  },
  {
   "cell_type": "code",
   "execution_count": 48,
   "metadata": {},
   "outputs": [
    {
     "name": "stdout",
     "output_type": "stream",
     "text": [
      "30\n",
      "70\n",
      "100\n"
     ]
    }
   ],
   "source": [
    "n = int(input()) # 총 묶음의 개수\n",
    "cards_list = [int(input(i)) for i in range(n)]\n",
    "cards_list = sorted(cards_list)\n",
    "sum_list = []\n",
    "\n",
    "for i in range(n-1):\n",
    "    sum_new = cards_list[0] + cards_list[1]\n",
    "    sum_list.append(sum_new)\n",
    "    print(sum_new)\n",
    "    if len(cards_list) > 2:\n",
    "        cards_list = cards_list[1:]\n",
    "        cards_list[0] = sum_new\n",
    "    else:\n",
    "        print(sum(sum_list))"
   ]
  },
  {
   "cell_type": "markdown",
   "metadata": {},
   "source": [
    "# 출력초과 -> 다른 방법"
   ]
  },
  {
   "cell_type": "code",
   "execution_count": 49,
   "metadata": {},
   "outputs": [
    {
     "name": "stdout",
     "output_type": "stream",
     "text": [
      "100\n"
     ]
    }
   ],
   "source": [
    "import heapq # 우선순위 큐 구현용 # heapq: 최소 힙 구조(항상 작은 값을 먼저 꺼낼 수 있음)\n",
    "\n",
    "n = int(input()) # 카드 묶음 수 \n",
    "\n",
    "heap = []\n",
    "for _ in range(n): \n",
    "    num=int(input()) # num: 각 카드 묶음의 크기 \n",
    "    heapq.heappush(heap,num) # heappush를 통해 heap에 각 num을 추가 \n",
    "\n",
    "result = 0 # 결과값 초기화 \n",
    "while True:\n",
    "    if len(heap) == 1: # 한개 남았을 때 중지 \n",
    "        break\n",
    "    card1 = heapq.heappop(heap) # 가장 작은값 pop - card1\n",
    "    card2 = heapq.heappop(heap) # 두번째로 작은값 pop - card2\n",
    "    result += (card1+card2) # 최소값 두개 더한 거 - result에 적재\n",
    "    heapq.heappush(heap,card1+card2) # 갱신 \n",
    "\n",
    "print(result)\n"
   ]
  },
  {
   "cell_type": "code",
   "execution_count": null,
   "metadata": {},
   "outputs": [],
   "source": []
  }
 ],
 "metadata": {
  "kernelspec": {
   "display_name": "Python 3.9.12 ('base')",
   "language": "python",
   "name": "python3"
  },
  "language_info": {
   "codemirror_mode": {
    "name": "ipython",
    "version": 3
   },
   "file_extension": ".py",
   "mimetype": "text/x-python",
   "name": "python",
   "nbconvert_exporter": "python",
   "pygments_lexer": "ipython3",
   "version": "3.9.12"
  },
  "orig_nbformat": 4,
  "vscode": {
   "interpreter": {
    "hash": "212cd9441ec9898fe11d1452af9cd2addff0416c6bf3ef465483bc3a88e4d851"
   }
  }
 },
 "nbformat": 4,
 "nbformat_minor": 2
}
