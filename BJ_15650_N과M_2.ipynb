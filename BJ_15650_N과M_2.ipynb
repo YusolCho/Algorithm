{
 "cells": [
  {
   "cell_type": "markdown",
   "metadata": {},
   "source": [
    "# 문제\n",
    "자연수 N과 M이 주어졌을 때, 아래 조건을 만족하는 길이가 M인 수열을 모두 구하는 프로그램을 작성하시오.\n",
    "\n",
    "* 1부터 N까지 자연수 중에서 중복 없이 M개를 고른 수열\n",
    "* 고른 수열은 오름차순이어야 한다.\n",
    "# 입력\n",
    "첫째 줄에 자연수 N과 M이 주어진다. (1 ≤ M ≤ N ≤ 8)\n",
    "\n",
    "# 출력\n",
    "한 줄에 하나씩 문제의 조건을 만족하는 수열을 출력한다. <br>중복되는 수열을 여러 번 출력하면 안되며, 각 수열은 공백으로 구분해서 출력해야 한다.\n",
    "\n",
    "<br>\n",
    "수열은 사전 순으로 증가하는 순서로 출력해야 한다.\n",
    "\n",
    "## 예제 입력 1 \n",
    "3 1\n",
    "## 예제 출력 1 \n",
    "1<br>\n",
    "2<br>\n",
    "3\n",
    "## 예제 입력 2 \n",
    "4 2\n",
    "## 예제 출력 2 \n",
    "1 2<br>\n",
    "1 3<br>\n",
    "1 4<br>\n",
    "2 3<br>\n",
    "2 4<br>\n",
    "3 4"
   ]
  },
  {
   "cell_type": "code",
   "execution_count": 16,
   "metadata": {},
   "outputs": [],
   "source": [
    "n, m= map(int, input().split())"
   ]
  },
  {
   "cell_type": "code",
   "execution_count": 17,
   "metadata": {},
   "outputs": [],
   "source": [
    "visited = [False]*(n+1)"
   ]
  },
  {
   "cell_type": "code",
   "execution_count": 18,
   "metadata": {},
   "outputs": [],
   "source": [
    "s = []"
   ]
  },
  {
   "cell_type": "code",
   "execution_count": 19,
   "metadata": {},
   "outputs": [],
   "source": [
    "n, m= map(int, input().split())\n",
    "visited = [False]*(n+1)\n",
    "s = []\n",
    "\n",
    "def dfs():\n",
    "    if len(s) == m:\n",
    "        print('length is up.',' '.join(map(str,s)))\n",
    "        return\n",
    "    \n",
    "    for i in range(1, n+1):\n",
    "        if visited[i] == False: \n",
    "            s.append(i)\n",
    "            visited[i] = True\n",
    "            dfs()\n",
    "            s.pop()\n",
    "            if len(s) == 0:\n",
    "                continue\n",
    "            visited[i] = False\n",
    "\n",
    "dfs()"
   ]
  },
  {
   "cell_type": "code",
   "execution_count": 20,
   "metadata": {},
   "outputs": [
    {
     "name": "stdout",
     "output_type": "stream",
     "text": [
      "length is up. 1 2\n",
      "length is up. 1 3\n",
      "length is up. 1 4\n",
      "length is up. 2 3\n",
      "length is up. 2 4\n",
      "length is up. 3 4\n"
     ]
    }
   ],
   "source": [
    "dfs()"
   ]
  },
  {
   "cell_type": "markdown",
   "metadata": {},
   "source": [
    "# 내 풀이가 틀린 이유 \n",
    "s의 길이가 0일 때에는 현재 노드에 대해 '방문처리 취소'를 하지 않기<br>\n",
    "즉, s에다가 pop을 하고 나서, 다시 방문 기록 없앨 때<br>\n",
    "만약 길이가 0이면 얘를 다시 방문하면 안되니까 방문 기록을 없애지 않겠다! 라고 하는 건데<br>\n",
    "내가 착각한 부분은, 이게 2개의 조합을 찾을 때만 먹히는 방법이라는 거<br>\n",
    "3개 이상에는 먹히지 않는다 \n",
    "\n",
    "# 그렇다면 어떻게 풀어야 하는가? \n",
    "DFS의 for 반복문의 범위를 (1,n+1) 이 아니고 start 라는 변수로 설정해야한다. "
   ]
  },
  {
   "cell_type": "code",
   "execution_count": 25,
   "metadata": {},
   "outputs": [
    {
     "name": "stdout",
     "output_type": "stream",
     "text": [
      "length is up. 1 2 3\n",
      "length is up. 1 2 4\n",
      "length is up. 1 3 4\n",
      "length is up. 2 3 4\n"
     ]
    }
   ],
   "source": [
    "n, m= map(int, input().split())\n",
    "visited = [False]*(n+1)\n",
    "s = []\n",
    "start = 1\n",
    "def dfs(start):\n",
    "    if len(s) == m:\n",
    "        print('length is up.',' '.join(map(str,s)))\n",
    "        return\n",
    "    \n",
    "    for i in range(start, n+1):\n",
    "        if visited[i] == False: \n",
    "            s.append(i)\n",
    "            visited[i] = True\n",
    "            start += 1\n",
    "            dfs(start)\n",
    "            s.pop()\n",
    "            visited[i] = False\n",
    "\n",
    "dfs(start)"
   ]
  },
  {
   "cell_type": "code",
   "execution_count": 28,
   "metadata": {},
   "outputs": [
    {
     "name": "stdout",
     "output_type": "stream",
     "text": [
      "1 2\n",
      "1 3\n",
      "1 4\n",
      "2 3\n",
      "2 4\n",
      "3 4\n"
     ]
    }
   ],
   "source": [
    "n, m= map(int, input().split())\n",
    "visited = [False]*(n+1)\n",
    "s = []\n",
    "start = 1\n",
    "def dfs(start):\n",
    "    if len(s) == m:\n",
    "        print(' '.join(map(str,s)))\n",
    "        return\n",
    "    \n",
    "    for i in range(start, n+1):\n",
    "        if visited[i] == False: \n",
    "            s.append(i)\n",
    "            visited[i] = True\n",
    "            start += 1\n",
    "            dfs(start)\n",
    "            s.pop()\n",
    "            visited[i] = False\n",
    "\n",
    "dfs(start)"
   ]
  },
  {
   "cell_type": "code",
   "execution_count": null,
   "metadata": {},
   "outputs": [],
   "source": [
    "4 3\n"
   ]
  }
 ],
 "metadata": {
  "kernelspec": {
   "display_name": "Python 3.8.16 ('datawrg')",
   "language": "python",
   "name": "python3"
  },
  "language_info": {
   "codemirror_mode": {
    "name": "ipython",
    "version": 3
   },
   "file_extension": ".py",
   "mimetype": "text/x-python",
   "name": "python",
   "nbconvert_exporter": "python",
   "pygments_lexer": "ipython3",
   "version": "3.8.16"
  },
  "orig_nbformat": 4,
  "vscode": {
   "interpreter": {
    "hash": "ab2bf47c83e23e79da7154310486cd6f2111092cec5daef28d72dd2b3b6f44d2"
   }
  }
 },
 "nbformat": 4,
 "nbformat_minor": 2
}
