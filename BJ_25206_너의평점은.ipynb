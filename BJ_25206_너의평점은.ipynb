{
 "cells": [
  {
   "cell_type": "markdown",
   "metadata": {},
   "source": [
    "<너의 평점은> 요약\n",
    "\n",
    "전공평점은 전공과목별 (학점 × 과목평점)의 합을 학점의 총합으로 나눈 값\n",
    "\n",
    "A+\t\n",
    "A0\t\n",
    "B+\t\n",
    "B0\t\n",
    "C+\t\n",
    "C0\t\n",
    "D+\t\n",
    "D0\t\n",
    "F\t\n",
    "\n",
    "등급이 P인 과목은 계산에서 제외해야 한다.\n",
    "출력값: 졸업가능 여부 \n",
    "* 1 ≤ 과목명의 길이 ≤ 50\n",
    "* 과목명은 알파벳 대소문자 또는 숫자로만 이루어져 있으며, 띄어쓰기 없이 주어진다. 입력으로 주어지는 모든 과목명은 서로 다르다.\n",
    "* 학점은 1.0,2.0,3.0,4.0중 하나이다."
   ]
  },
  {
   "cell_type": "code",
   "execution_count": 2,
   "metadata": {},
   "outputs": [],
   "source": [
    "# 평점에 따른 학점\n",
    "score_dict = {\n",
    "    'A+': 4.5,\n",
    "    'A0': 4.0,\n",
    "    'B+': 3.5,\n",
    "    'B0': 3.0,\n",
    "    'C+': 2.5,\n",
    "    'C0': 2.0,\n",
    "    'D+': 1.5,\n",
    "    'D0': 1.0,\n",
    "    'F': 0.0\n",
    "}"
   ]
  },
  {
   "cell_type": "code",
   "execution_count": 1,
   "metadata": {},
   "outputs": [
    {
     "name": "stdout",
     "output_type": "stream",
     "text": [
      "3.284483\n"
     ]
    }
   ],
   "source": [
    "total_credit = 0\n",
    "total_score_x_credit = 0\n",
    "\n",
    "# input 받아오기 \n",
    "for _ in range(20):\n",
    "    subject, credit, score = input().split()\n",
    "    credit = float(credit) \n",
    "    \n",
    "    if score == 'P':  # P는 무시한다 \n",
    "        continue\n",
    "    else: \n",
    "        # (score x credit) 총합 \n",
    "        total_score_x_credit += score_dict[score] * credit\n",
    "        # 총 credit \n",
    "        total_credit += credit\n",
    "\n",
    "# 평균 평점 계산 및 출력\n",
    "if total_credit > 0:  \n",
    "    average_gpa = total_score_x_credit / total_credit\n",
    "    print(f\"{average_gpa:.6f}\")  # 소수점 아래 여섯번째까지 출력\n",
    "else:\n",
    "    print(\"0.000000\")  # 0이면 0.000000 출력\n"
   ]
  },
  {
   "cell_type": "code",
   "execution_count": null,
   "metadata": {},
   "outputs": [],
   "source": []
  }
 ],
 "metadata": {
  "kernelspec": {
   "display_name": "Python 3.8.16 ('datawrg')",
   "language": "python",
   "name": "python3"
  },
  "language_info": {
   "codemirror_mode": {
    "name": "ipython",
    "version": 3
   },
   "file_extension": ".py",
   "mimetype": "text/x-python",
   "name": "python",
   "nbconvert_exporter": "python",
   "pygments_lexer": "ipython3",
   "version": "3.8.16"
  },
  "orig_nbformat": 4,
  "vscode": {
   "interpreter": {
    "hash": "ab2bf47c83e23e79da7154310486cd6f2111092cec5daef28d72dd2b3b6f44d2"
   }
  }
 },
 "nbformat": 4,
 "nbformat_minor": 2
}
